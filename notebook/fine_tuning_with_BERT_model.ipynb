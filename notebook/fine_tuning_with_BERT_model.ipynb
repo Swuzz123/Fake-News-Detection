{
 "cells": [
  {
   "cell_type": "markdown",
   "metadata": {
    "id": "wgs9n7IZOke-"
   },
   "source": [
    "## **Set up Environments**"
   ]
  },
  {
   "cell_type": "code",
   "execution_count": null,
   "metadata": {
    "colab": {
     "base_uri": "https://localhost:8080/"
    },
    "execution": {
     "iopub.execute_input": "2025-06-08T03:29:31.882470Z",
     "iopub.status.busy": "2025-06-08T03:29:31.881908Z",
     "iopub.status.idle": "2025-06-08T03:29:35.015091Z",
     "shell.execute_reply": "2025-06-08T03:29:35.014376Z",
     "shell.execute_reply.started": "2025-06-08T03:29:31.882448Z"
    },
    "id": "zUwGrSuvA-tX",
    "outputId": "33b805ba-a04e-4c52-8838-a571a8987313",
    "trusted": true
   },
   "outputs": [
    {
     "name": "stdout",
     "output_type": "stream",
     "text": [
      "Requirement already satisfied: transformers in /usr/local/lib/python3.11/dist-packages (4.51.3)\n",
      "Requirement already satisfied: filelock in /usr/local/lib/python3.11/dist-packages (from transformers) (3.18.0)\n",
      "Requirement already satisfied: huggingface-hub<1.0,>=0.30.0 in /usr/local/lib/python3.11/dist-packages (from transformers) (0.31.1)\n",
      "Requirement already satisfied: numpy>=1.17 in /usr/local/lib/python3.11/dist-packages (from transformers) (1.26.4)\n",
      "Requirement already satisfied: packaging>=20.0 in /usr/local/lib/python3.11/dist-packages (from transformers) (25.0)\n",
      "Requirement already satisfied: pyyaml>=5.1 in /usr/local/lib/python3.11/dist-packages (from transformers) (6.0.2)\n",
      "Requirement already satisfied: regex!=2019.12.17 in /usr/local/lib/python3.11/dist-packages (from transformers) (2024.11.6)\n",
      "Requirement already satisfied: requests in /usr/local/lib/python3.11/dist-packages (from transformers) (2.32.3)\n",
      "Requirement already satisfied: tokenizers<0.22,>=0.21 in /usr/local/lib/python3.11/dist-packages (from transformers) (0.21.1)\n",
      "Requirement already satisfied: safetensors>=0.4.3 in /usr/local/lib/python3.11/dist-packages (from transformers) (0.5.3)\n",
      "Requirement already satisfied: tqdm>=4.27 in /usr/local/lib/python3.11/dist-packages (from transformers) (4.67.1)\n",
      "Requirement already satisfied: fsspec>=2023.5.0 in /usr/local/lib/python3.11/dist-packages (from huggingface-hub<1.0,>=0.30.0->transformers) (2025.3.2)\n",
      "Requirement already satisfied: typing-extensions>=3.7.4.3 in /usr/local/lib/python3.11/dist-packages (from huggingface-hub<1.0,>=0.30.0->transformers) (4.13.2)\n",
      "Requirement already satisfied: hf-xet<2.0.0,>=1.1.0 in /usr/local/lib/python3.11/dist-packages (from huggingface-hub<1.0,>=0.30.0->transformers) (1.1.0)\n",
      "Requirement already satisfied: mkl_fft in /usr/local/lib/python3.11/dist-packages (from numpy>=1.17->transformers) (1.3.8)\n",
      "Requirement already satisfied: mkl_random in /usr/local/lib/python3.11/dist-packages (from numpy>=1.17->transformers) (1.2.4)\n",
      "Requirement already satisfied: mkl_umath in /usr/local/lib/python3.11/dist-packages (from numpy>=1.17->transformers) (0.1.1)\n",
      "Requirement already satisfied: mkl in /usr/local/lib/python3.11/dist-packages (from numpy>=1.17->transformers) (2025.1.0)\n",
      "Requirement already satisfied: tbb4py in /usr/local/lib/python3.11/dist-packages (from numpy>=1.17->transformers) (2022.1.0)\n",
      "Requirement already satisfied: mkl-service in /usr/local/lib/python3.11/dist-packages (from numpy>=1.17->transformers) (2.4.1)\n",
      "Requirement already satisfied: charset-normalizer<4,>=2 in /usr/local/lib/python3.11/dist-packages (from requests->transformers) (3.4.2)\n",
      "Requirement already satisfied: idna<4,>=2.5 in /usr/local/lib/python3.11/dist-packages (from requests->transformers) (3.10)\n",
      "Requirement already satisfied: urllib3<3,>=1.21.1 in /usr/local/lib/python3.11/dist-packages (from requests->transformers) (2.4.0)\n",
      "Requirement already satisfied: certifi>=2017.4.17 in /usr/local/lib/python3.11/dist-packages (from requests->transformers) (2025.4.26)\n",
      "Requirement already satisfied: intel-openmp<2026,>=2024 in /usr/local/lib/python3.11/dist-packages (from mkl->numpy>=1.17->transformers) (2024.2.0)\n",
      "Requirement already satisfied: tbb==2022.* in /usr/local/lib/python3.11/dist-packages (from mkl->numpy>=1.17->transformers) (2022.1.0)\n",
      "Requirement already satisfied: tcmlib==1.* in /usr/local/lib/python3.11/dist-packages (from tbb==2022.*->mkl->numpy>=1.17->transformers) (1.3.0)\n",
      "Requirement already satisfied: intel-cmplr-lib-rt in /usr/local/lib/python3.11/dist-packages (from mkl_umath->numpy>=1.17->transformers) (2024.2.0)\n",
      "Requirement already satisfied: intel-cmplr-lib-ur==2024.2.0 in /usr/local/lib/python3.11/dist-packages (from intel-openmp<2026,>=2024->mkl->numpy>=1.17->transformers) (2024.2.0)\n"
     ]
    }
   ],
   "source": [
    "# !pip install transformers"
   ]
  },
  {
   "cell_type": "code",
   "execution_count": 61,
   "metadata": {
    "execution": {
     "iopub.execute_input": "2025-06-08T05:05:07.773593Z",
     "iopub.status.busy": "2025-06-08T05:05:07.772847Z",
     "iopub.status.idle": "2025-06-08T05:05:07.779965Z",
     "shell.execute_reply": "2025-06-08T05:05:07.779126Z",
     "shell.execute_reply.started": "2025-06-08T05:05:07.773554Z"
    },
    "id": "f6_PEcSVOrMQ",
    "trusted": true
   },
   "outputs": [],
   "source": [
    "import torch\n",
    "from torch import nn\n",
    "\n",
    "import numpy as np\n",
    "import pandas as pd\n",
    "import seaborn as sns\n",
    "import matplotlib.pyplot as plt\n",
    "\n",
    "sns.set(style='whitegrid', palette='muted', font_scale=1.2)\n",
    "\n",
    "HAPPY_COLORS_PALETTE = [\"#01BEFE\", \"#FFDD00\", \"#FF7D00\", \"#FF006D\", \"#ADFF02\", \"#8F00FF\"]\n",
    "\n",
    "sns.set_palette(sns.color_palette(HAPPY_COLORS_PALETTE))"
   ]
  },
  {
   "cell_type": "code",
   "execution_count": 62,
   "metadata": {
    "execution": {
     "iopub.execute_input": "2025-06-08T05:05:11.385509Z",
     "iopub.status.busy": "2025-06-08T05:05:11.384953Z",
     "iopub.status.idle": "2025-06-08T05:05:14.035936Z",
     "shell.execute_reply": "2025-06-08T05:05:14.035112Z",
     "shell.execute_reply.started": "2025-06-08T05:05:11.385486Z"
    },
    "id": "OhEXhQvVP16o",
    "trusted": true
   },
   "outputs": [],
   "source": [
    "FAKE_PATH = \"/kaggle/input/datasets-fake-new-detection/DataSet_Misinfo_FAKE.csv\"\n",
    "TRUE_PATH = \"/kaggle/input/datasets-fake-new-detection/DataSet_Misinfo_TRUE.csv\"\n",
    "\n",
    "df_fake = pd.read_csv(FAKE_PATH)\n",
    "df_true = pd.read_csv(TRUE_PATH)"
   ]
  },
  {
   "cell_type": "code",
   "execution_count": null,
   "metadata": {
    "colab": {
     "base_uri": "https://localhost:8080/"
    },
    "execution": {
     "iopub.execute_input": "2025-06-08T05:05:16.244075Z",
     "iopub.status.busy": "2025-06-08T05:05:16.243778Z",
     "iopub.status.idle": "2025-06-08T05:05:16.252489Z",
     "shell.execute_reply": "2025-06-08T05:05:16.251698Z",
     "shell.execute_reply.started": "2025-06-08T05:05:16.244055Z"
    },
    "id": "nFbK3yTVRMKY",
    "outputId": "728de0ab-66d5-4f28-96ed-a1de00618552",
    "trusted": true
   },
   "outputs": [
    {
     "data": {
      "text/plain": [
       "(   Unnamed: 0                                               text\n",
       " 0           0  Donald Trump just couldn t wish all Americans ...\n",
       " 1           1  House Intelligence Committee Chairman Devin Nu...\n",
       " 2           2  On Friday, it was revealed that former Milwauk...\n",
       " 3           3  On Christmas day, Donald Trump announced that ...\n",
       " 4           4  Pope Francis used his annual Christmas Day mes...,\n",
       "    Unnamed: 0                                               text\n",
       " 0           0  The head of a conservative Republican faction ...\n",
       " 1           1  Transgender people will be allowed for the fir...\n",
       " 2           2  The special counsel investigation of links bet...\n",
       " 3           3  Trump campaign adviser George Papadopoulos tol...\n",
       " 4           4  President Donald Trump called on the U.S. Post...)"
      ]
     },
     "execution_count": 63,
     "metadata": {},
     "output_type": "execute_result"
    }
   ],
   "source": [
    "df_fake.head(), df_true.head()"
   ]
  },
  {
   "cell_type": "markdown",
   "metadata": {
    "id": "nGP9d7wVRJY4"
   },
   "source": [
    "## **1. Data Preprocessing**"
   ]
  },
  {
   "cell_type": "markdown",
   "metadata": {
    "id": "pkkj1DTLRVqs"
   },
   "source": [
    "#### **1.1 Remove uneccessary columns & Label for the dataset**\n",
    "\n",
    "Có thể thấy ở 2 cột của bộ dữ liệu đang có cùng 1 cột dư thừa và không sử dụng đến \"Unnamed: 0\", nên ta sẽ loại bỏ cột này ở cả 2 bộ dữ liệu.\n",
    "Thứ 2 là bộ dữ liệu mặc dù đã được chia ra fake và real news ở mỗi tệp nhưng chưa được gán nhãn. Vì vậy ta sẽ thực hiện việc gán nhãn cho bộ dữ liệu, với dữ liệu Fake thì sẽ là 0 và Real sẽ là 1"
   ]
  },
  {
   "cell_type": "code",
   "execution_count": 64,
   "metadata": {
    "execution": {
     "iopub.execute_input": "2025-06-08T05:05:19.287498Z",
     "iopub.status.busy": "2025-06-08T05:05:19.286880Z",
     "iopub.status.idle": "2025-06-08T05:05:19.296317Z",
     "shell.execute_reply": "2025-06-08T05:05:19.295559Z",
     "shell.execute_reply.started": "2025-06-08T05:05:19.287476Z"
    },
    "id": "6_84GkAiRSPT",
    "trusted": true
   },
   "outputs": [],
   "source": [
    "# Remove uneccessary columns in 2 datasets\n",
    "df_fake.drop(\"Unnamed: 0\", axis = 1, inplace = True)\n",
    "df_true.drop(\"Unnamed: 0\", axis = 1, inplace = True)"
   ]
  },
  {
   "cell_type": "code",
   "execution_count": 65,
   "metadata": {
    "execution": {
     "iopub.execute_input": "2025-06-08T05:05:22.926026Z",
     "iopub.status.busy": "2025-06-08T05:05:22.925447Z",
     "iopub.status.idle": "2025-06-08T05:05:22.936616Z",
     "shell.execute_reply": "2025-06-08T05:05:22.935831Z",
     "shell.execute_reply.started": "2025-06-08T05:05:22.925999Z"
    },
    "id": "8SD3kDQZRzQ2",
    "trusted": true
   },
   "outputs": [],
   "source": [
    "# Label for the dataset\n",
    "df_fake['label'] = 0\n",
    "df_true['label'] = 1\n",
    "\n",
    "# Combine 2 dataset to 1\n",
    "df = pd.concat([df_fake, df_true])"
   ]
  },
  {
   "cell_type": "code",
   "execution_count": 66,
   "metadata": {
    "colab": {
     "base_uri": "https://localhost:8080/",
     "height": 206
    },
    "execution": {
     "iopub.execute_input": "2025-06-08T05:05:24.714428Z",
     "iopub.status.busy": "2025-06-08T05:05:24.713713Z",
     "iopub.status.idle": "2025-06-08T05:05:24.724223Z",
     "shell.execute_reply": "2025-06-08T05:05:24.723641Z",
     "shell.execute_reply.started": "2025-06-08T05:05:24.714403Z"
    },
    "id": "qSncMAYfSGrw",
    "outputId": "81d0c709-3eed-4cc8-86c3-020e12a0efbc",
    "trusted": true
   },
   "outputs": [
    {
     "data": {
      "text/html": [
       "<div>\n",
       "<style scoped>\n",
       "    .dataframe tbody tr th:only-of-type {\n",
       "        vertical-align: middle;\n",
       "    }\n",
       "\n",
       "    .dataframe tbody tr th {\n",
       "        vertical-align: top;\n",
       "    }\n",
       "\n",
       "    .dataframe thead th {\n",
       "        text-align: right;\n",
       "    }\n",
       "</style>\n",
       "<table border=\"1\" class=\"dataframe\">\n",
       "  <thead>\n",
       "    <tr style=\"text-align: right;\">\n",
       "      <th></th>\n",
       "      <th>text</th>\n",
       "      <th>label</th>\n",
       "    </tr>\n",
       "  </thead>\n",
       "  <tbody>\n",
       "    <tr>\n",
       "      <th>31014</th>\n",
       "      <td>WASHINGTON  —   The White House is considering...</td>\n",
       "      <td>1</td>\n",
       "    </tr>\n",
       "    <tr>\n",
       "      <th>31281</th>\n",
       "      <td>‘Ignored’ voter to become ‘absolutely shafted’...</td>\n",
       "      <td>0</td>\n",
       "    </tr>\n",
       "    <tr>\n",
       "      <th>24751</th>\n",
       "      <td>Posted on October 29, 2016 by Baxter Dmitry in...</td>\n",
       "      <td>0</td>\n",
       "    </tr>\n",
       "    <tr>\n",
       "      <th>21745</th>\n",
       "      <td>21st Century Wire says Since the late 1960 s, ...</td>\n",
       "      <td>0</td>\n",
       "    </tr>\n",
       "    <tr>\n",
       "      <th>13936</th>\n",
       "      <td>Tow the party line or pay a heavy price. There...</td>\n",
       "      <td>0</td>\n",
       "    </tr>\n",
       "  </tbody>\n",
       "</table>\n",
       "</div>"
      ],
      "text/plain": [
       "                                                    text  label\n",
       "31014  WASHINGTON  —   The White House is considering...      1\n",
       "31281  ‘Ignored’ voter to become ‘absolutely shafted’...      0\n",
       "24751  Posted on October 29, 2016 by Baxter Dmitry in...      0\n",
       "21745  21st Century Wire says Since the late 1960 s, ...      0\n",
       "13936  Tow the party line or pay a heavy price. There...      0"
      ]
     },
     "execution_count": 66,
     "metadata": {},
     "output_type": "execute_result"
    }
   ],
   "source": [
    "df.sample(5)"
   ]
  },
  {
   "cell_type": "code",
   "execution_count": 67,
   "metadata": {
    "colab": {
     "base_uri": "https://localhost:8080/"
    },
    "execution": {
     "iopub.execute_input": "2025-06-08T05:05:26.836114Z",
     "iopub.status.busy": "2025-06-08T05:05:26.835373Z",
     "iopub.status.idle": "2025-06-08T05:05:26.839860Z",
     "shell.execute_reply": "2025-06-08T05:05:26.839098Z",
     "shell.execute_reply.started": "2025-06-08T05:05:26.836092Z"
    },
    "id": "TRu2OyQpSHpP",
    "outputId": "ddacbb7e-04b0-4f72-d8cc-04a90d9075aa",
    "trusted": true
   },
   "outputs": [
    {
     "name": "stdout",
     "output_type": "stream",
     "text": [
      "The shape of the data: (78617, 2)\n"
     ]
    }
   ],
   "source": [
    "print(\"The shape of the data:\", df.shape)"
   ]
  },
  {
   "cell_type": "markdown",
   "metadata": {
    "id": "xUJBU0GPSXAS"
   },
   "source": [
    "#### **1.2 Check missing and duplicated values**\n",
    "Kiểm tra giá trị missing"
   ]
  },
  {
   "cell_type": "code",
   "execution_count": 68,
   "metadata": {
    "colab": {
     "base_uri": "https://localhost:8080/",
     "height": 147
    },
    "execution": {
     "iopub.execute_input": "2025-06-08T05:05:28.871898Z",
     "iopub.status.busy": "2025-06-08T05:05:28.871593Z",
     "iopub.status.idle": "2025-06-08T05:05:28.890966Z",
     "shell.execute_reply": "2025-06-08T05:05:28.890077Z",
     "shell.execute_reply.started": "2025-06-08T05:05:28.871876Z"
    },
    "id": "KfXGUz5kSTep",
    "outputId": "9c4ffa91-550f-4bc1-d75d-adc1e4e28970",
    "trusted": true
   },
   "outputs": [
    {
     "data": {
      "text/plain": [
       "text     29\n",
       "label     0\n",
       "dtype: int64"
      ]
     },
     "execution_count": 68,
     "metadata": {},
     "output_type": "execute_result"
    }
   ],
   "source": [
    "df.isnull().sum().sort_values(ascending=False)"
   ]
  },
  {
   "cell_type": "markdown",
   "metadata": {
    "id": "rHn4MWP-SezS"
   },
   "source": [
    "Ở đây đang có 29 dữ liệu missing, chắc chắn là sẽ bỏ đi các giá trị này. Thêm vào đó, có thể sẽ có 1 vài dòng chưa giá trị blank space ' ', mà những giá trị như vậy thì pandas nó không đọc được là giá trị null nên vì vậy sẽ phải chuyển các giá trị blank space ' ' thành giá trị null và loại bỏ đi."
   ]
  },
  {
   "cell_type": "code",
   "execution_count": 69,
   "metadata": {
    "execution": {
     "iopub.execute_input": "2025-06-08T05:05:30.672057Z",
     "iopub.status.busy": "2025-06-08T05:05:30.671446Z",
     "iopub.status.idle": "2025-06-08T05:05:30.675857Z",
     "shell.execute_reply": "2025-06-08T05:05:30.675194Z",
     "shell.execute_reply.started": "2025-06-08T05:05:30.672031Z"
    },
    "id": "vOD67EUZSfOW",
    "trusted": true
   },
   "outputs": [],
   "source": [
    "# Function to convert blank space to null value\n",
    "def blank_to_nan(df):\n",
    "    tmp = []\n",
    "    for item in df:\n",
    "        if item == '':\n",
    "            tmp.append(np.nan)\n",
    "        else:\n",
    "            tmp.append(item)\n",
    "    return tmp"
   ]
  },
  {
   "cell_type": "code",
   "execution_count": 71,
   "metadata": {
    "execution": {
     "iopub.execute_input": "2025-06-08T05:05:33.876110Z",
     "iopub.status.busy": "2025-06-08T05:05:33.875827Z",
     "iopub.status.idle": "2025-06-08T05:05:33.901350Z",
     "shell.execute_reply": "2025-06-08T05:05:33.900536Z",
     "shell.execute_reply.started": "2025-06-08T05:05:33.876089Z"
    },
    "id": "O1_x4TTiSjnK",
    "trusted": true
   },
   "outputs": [],
   "source": [
    "text = blank_to_nan(df['text'])"
   ]
  },
  {
   "cell_type": "code",
   "execution_count": 72,
   "metadata": {
    "execution": {
     "iopub.execute_input": "2025-06-08T05:05:34.302663Z",
     "iopub.status.busy": "2025-06-08T05:05:34.302366Z",
     "iopub.status.idle": "2025-06-08T05:05:34.328017Z",
     "shell.execute_reply": "2025-06-08T05:05:34.327464Z",
     "shell.execute_reply.started": "2025-06-08T05:05:34.302641Z"
    },
    "id": "7Fj_4jmuSkuj",
    "trusted": true
   },
   "outputs": [],
   "source": [
    "tmp = pd.DataFrame({'text': text, 'label': df['label']})"
   ]
  },
  {
   "cell_type": "code",
   "execution_count": 73,
   "metadata": {
    "execution": {
     "iopub.execute_input": "2025-06-08T05:05:35.157386Z",
     "iopub.status.busy": "2025-06-08T05:05:35.156666Z",
     "iopub.status.idle": "2025-06-08T05:05:35.179797Z",
     "shell.execute_reply": "2025-06-08T05:05:35.178958Z",
     "shell.execute_reply.started": "2025-06-08T05:05:35.157363Z"
    },
    "id": "aMNHkhK0Slw1",
    "trusted": true
   },
   "outputs": [],
   "source": [
    "df = tmp.dropna()"
   ]
  },
  {
   "cell_type": "code",
   "execution_count": 74,
   "metadata": {
    "colab": {
     "base_uri": "https://localhost:8080/"
    },
    "execution": {
     "iopub.execute_input": "2025-06-08T05:05:35.916038Z",
     "iopub.status.busy": "2025-06-08T05:05:35.915756Z",
     "iopub.status.idle": "2025-06-08T05:05:35.920384Z",
     "shell.execute_reply": "2025-06-08T05:05:35.919638Z",
     "shell.execute_reply.started": "2025-06-08T05:05:35.916020Z"
    },
    "id": "JizKmC-bSnO_",
    "outputId": "71c2876e-3da8-46a8-f262-63ff204588a3",
    "trusted": true
   },
   "outputs": [
    {
     "name": "stdout",
     "output_type": "stream",
     "text": [
      "The shape of data after dropping null values: (78588, 2)\n"
     ]
    }
   ],
   "source": [
    "print('The shape of data after dropping null values:', df.shape)"
   ]
  },
  {
   "cell_type": "markdown",
   "metadata": {
    "id": "lMdzbpnDTTvb"
   },
   "source": [
    "Kiểm tra giá trị duplicated"
   ]
  },
  {
   "cell_type": "code",
   "execution_count": 75,
   "metadata": {
    "colab": {
     "base_uri": "https://localhost:8080/"
    },
    "execution": {
     "iopub.execute_input": "2025-06-08T05:05:38.160227Z",
     "iopub.status.busy": "2025-06-08T05:05:38.159474Z",
     "iopub.status.idle": "2025-06-08T05:05:39.916514Z",
     "shell.execute_reply": "2025-06-08T05:05:39.915731Z",
     "shell.execute_reply.started": "2025-06-08T05:05:38.160201Z"
    },
    "id": "jcfte3_dTUDp",
    "outputId": "f6374a11-9e58-4819-9264-103cac3ea01b",
    "trusted": true
   },
   "outputs": [
    {
     "name": "stderr",
     "output_type": "stream",
     "text": [
      "/tmp/ipykernel_35/571764310.py:1: SettingWithCopyWarning: \n",
      "A value is trying to be set on a copy of a slice from a DataFrame.\n",
      "Try using .loc[row_indexer,col_indexer] = value instead\n",
      "\n",
      "See the caveats in the documentation: https://pandas.pydata.org/pandas-docs/stable/user_guide/indexing.html#returning-a-view-versus-a-copy\n",
      "  df['clean_text'] = df['text'].str.lower().str.strip()\n"
     ]
    }
   ],
   "source": [
    "df['clean_text'] = df['text'].str.lower().str.strip()\n",
    "\n",
    "duplicated_texts = df[df.duplicated(subset='clean_text', keep=False)]"
   ]
  },
  {
   "cell_type": "code",
   "execution_count": 76,
   "metadata": {
    "colab": {
     "base_uri": "https://localhost:8080/",
     "height": 206
    },
    "execution": {
     "iopub.execute_input": "2025-06-08T05:05:40.867077Z",
     "iopub.status.busy": "2025-06-08T05:05:40.866321Z",
     "iopub.status.idle": "2025-06-08T05:05:40.880478Z",
     "shell.execute_reply": "2025-06-08T05:05:40.878622Z",
     "shell.execute_reply.started": "2025-06-08T05:05:40.867044Z"
    },
    "id": "M1mDLbxlTXjj",
    "outputId": "ca7d712e-078a-43ca-f40c-a1b24b851065",
    "trusted": true
   },
   "outputs": [
    {
     "data": {
      "text/html": [
       "<div>\n",
       "<style scoped>\n",
       "    .dataframe tbody tr th:only-of-type {\n",
       "        vertical-align: middle;\n",
       "    }\n",
       "\n",
       "    .dataframe tbody tr th {\n",
       "        vertical-align: top;\n",
       "    }\n",
       "\n",
       "    .dataframe thead th {\n",
       "        text-align: right;\n",
       "    }\n",
       "</style>\n",
       "<table border=\"1\" class=\"dataframe\">\n",
       "  <thead>\n",
       "    <tr style=\"text-align: right;\">\n",
       "      <th></th>\n",
       "      <th>text</th>\n",
       "      <th>label</th>\n",
       "      <th>clean_text</th>\n",
       "    </tr>\n",
       "  </thead>\n",
       "  <tbody>\n",
       "    <tr>\n",
       "      <th>9087</th>\n",
       "      <td>Barbra Streisand was an Obama sycophant and on...</td>\n",
       "      <td>0</td>\n",
       "      <td>barbra streisand was an obama sycophant and on...</td>\n",
       "    </tr>\n",
       "    <tr>\n",
       "      <th>9088</th>\n",
       "      <td>Everyone suspected the sketchy Steele Dossier ...</td>\n",
       "      <td>0</td>\n",
       "      <td>everyone suspected the sketchy steele dossier ...</td>\n",
       "    </tr>\n",
       "    <tr>\n",
       "      <th>9089</th>\n",
       "      <td>It s been said that good fences make good neig...</td>\n",
       "      <td>0</td>\n",
       "      <td>it s been said that good fences make good neig...</td>\n",
       "    </tr>\n",
       "    <tr>\n",
       "      <th>9091</th>\n",
       "      <td>Friday on MSNBC, climate activist Bill Nye war...</td>\n",
       "      <td>0</td>\n",
       "      <td>friday on msnbc, climate activist bill nye war...</td>\n",
       "    </tr>\n",
       "    <tr>\n",
       "      <th>9093</th>\n",
       "      <td>#JokeNewsAfter record, cold temperatures were ...</td>\n",
       "      <td>0</td>\n",
       "      <td>#jokenewsafter record, cold temperatures were ...</td>\n",
       "    </tr>\n",
       "  </tbody>\n",
       "</table>\n",
       "</div>"
      ],
      "text/plain": [
       "                                                   text  label  \\\n",
       "9087  Barbra Streisand was an Obama sycophant and on...      0   \n",
       "9088  Everyone suspected the sketchy Steele Dossier ...      0   \n",
       "9089  It s been said that good fences make good neig...      0   \n",
       "9091  Friday on MSNBC, climate activist Bill Nye war...      0   \n",
       "9093  #JokeNewsAfter record, cold temperatures were ...      0   \n",
       "\n",
       "                                             clean_text  \n",
       "9087  barbra streisand was an obama sycophant and on...  \n",
       "9088  everyone suspected the sketchy steele dossier ...  \n",
       "9089  it s been said that good fences make good neig...  \n",
       "9091  friday on msnbc, climate activist bill nye war...  \n",
       "9093  #jokenewsafter record, cold temperatures were ...  "
      ]
     },
     "execution_count": 76,
     "metadata": {},
     "output_type": "execute_result"
    }
   ],
   "source": [
    "duplicated_texts.head()"
   ]
  },
  {
   "cell_type": "code",
   "execution_count": 77,
   "metadata": {
    "colab": {
     "base_uri": "https://localhost:8080/"
    },
    "execution": {
     "iopub.execute_input": "2025-06-08T05:05:42.879767Z",
     "iopub.status.busy": "2025-06-08T05:05:42.879020Z",
     "iopub.status.idle": "2025-06-08T05:05:42.927844Z",
     "shell.execute_reply": "2025-06-08T05:05:42.927214Z",
     "shell.execute_reply.started": "2025-06-08T05:05:42.879730Z"
    },
    "id": "_-NLiHk9TZbg",
    "outputId": "7a5cce71-c5d0-4420-f0d4-b705a708cdca",
    "trusted": true
   },
   "outputs": [
    {
     "name": "stdout",
     "output_type": "stream",
     "text": [
      "The shape of data: (78588, 3)\n",
      "The shape of data after dropping duplicates: (68600, 2)\n"
     ]
    }
   ],
   "source": [
    "print(\"The shape of data:\", df.shape)\n",
    "\n",
    "# Remove duplicated texts\n",
    "df = df.drop_duplicates(subset = 'clean_text', keep = 'first').drop(columns = 'clean_text')\n",
    "\n",
    "print(\"The shape of data after dropping duplicates:\", df.shape)"
   ]
  },
  {
   "cell_type": "markdown",
   "metadata": {
    "id": "uxtqKe-kX7n9"
   },
   "source": [
    "## **2. Explore Data Analysis (EDA)**"
   ]
  },
  {
   "cell_type": "markdown",
   "metadata": {
    "id": "Sn1_unYudjz6"
   },
   "source": [
    "#### **2.1 View Label Distribution**"
   ]
  },
  {
   "cell_type": "code",
   "execution_count": 78,
   "metadata": {
    "colab": {
     "base_uri": "https://localhost:8080/",
     "height": 485
    },
    "execution": {
     "iopub.execute_input": "2025-06-08T05:05:44.969035Z",
     "iopub.status.busy": "2025-06-08T05:05:44.968457Z",
     "iopub.status.idle": "2025-06-08T05:05:45.151989Z",
     "shell.execute_reply": "2025-06-08T05:05:45.151321Z",
     "shell.execute_reply.started": "2025-06-08T05:05:44.969015Z"
    },
    "id": "B3DnJa7ITkLp",
    "outputId": "d699479e-fe15-476a-d61e-6e34d30c4af3",
    "trusted": true
   },
   "outputs": [
    {
     "data": {
      "image/png": "[encoded data removed]",
      "text/plain": [
       "<Figure size 640x480 with 1 Axes>"
      ]
     },
     "metadata": {},
     "output_type": "display_data"
    }
   ],
   "source": [
    "df['label'].value_counts().plot(kind = 'bar', color = ['red', 'blue'])\n",
    "plt.title(\"Frequency of Fake vs True News\")\n",
    "plt.xticks(ticks = [0, 1], labels = ['Fake', 'True'], rotation = 0)\n",
    "plt.xlabel(\"Label\")\n",
    "plt.ylabel(\"Count\")\n",
    "plt.show()"
   ]
  },
  {
   "cell_type": "code",
   "execution_count": 79,
   "metadata": {
    "colab": {
     "base_uri": "https://localhost:8080/"
    },
    "execution": {
     "iopub.execute_input": "2025-06-08T05:05:47.028904Z",
     "iopub.status.busy": "2025-06-08T05:05:47.028189Z",
     "iopub.status.idle": "2025-06-08T05:05:47.042396Z",
     "shell.execute_reply": "2025-06-08T05:05:47.041601Z",
     "shell.execute_reply.started": "2025-06-08T05:05:47.028879Z"
    },
    "id": "gs9hxuIxki-l",
    "outputId": "201d3aa3-ee27-4ecb-df92-4fd101505a65",
    "trusted": true
   },
   "outputs": [
    {
     "name": "stdout",
     "output_type": "stream",
     "text": [
      "There are 68600 articles. \n",
      "50.33% are true articles and 49.67% are fake articles.\n"
     ]
    }
   ],
   "source": [
    "percent_real = len(df[df['label'] == 1 ])/ len(df)*100\n",
    "percent_fake = len(df[df['label'] == 0])/ len(df)*100\n",
    "print(f'There are {len(df)} articles. \\n{percent_real:.2f}% are true articles and {percent_fake:.2f}% are fake articles.')"
   ]
  },
  {
   "cell_type": "markdown",
   "metadata": {
    "id": "88e2Z5K-k3Wb"
   },
   "source": [
    "#### **2.2 Text Length Analysis**"
   ]
  },
  {
   "cell_type": "code",
   "execution_count": 80,
   "metadata": {
    "execution": {
     "iopub.execute_input": "2025-06-08T05:05:48.295521Z",
     "iopub.status.busy": "2025-06-08T05:05:48.294912Z",
     "iopub.status.idle": "2025-06-08T05:05:50.297865Z",
     "shell.execute_reply": "2025-06-08T05:05:50.297288Z",
     "shell.execute_reply.started": "2025-06-08T05:05:48.295499Z"
    },
    "id": "9fKFDEZ7k74P",
    "trusted": true
   },
   "outputs": [],
   "source": [
    "df['text_length'] = df['text'].apply(lambda x: len(x.split()))"
   ]
  },
  {
   "cell_type": "code",
   "execution_count": 81,
   "metadata": {
    "colab": {
     "base_uri": "https://localhost:8080/",
     "height": 729
    },
    "execution": {
     "iopub.execute_input": "2025-06-08T05:05:52.217898Z",
     "iopub.status.busy": "2025-06-08T05:05:52.217352Z",
     "iopub.status.idle": "2025-06-08T05:05:53.069083Z",
     "shell.execute_reply": "2025-06-08T05:05:53.068413Z",
     "shell.execute_reply.started": "2025-06-08T05:05:52.217872Z"
    },
    "id": "LE6-reUYp22D",
    "outputId": "cf07023c-d7ca-4ae0-c35a-d039098c8f3c",
    "trusted": true
   },
   "outputs": [
    {
     "name": "stderr",
     "output_type": "stream",
     "text": [
      "/usr/local/lib/python3.11/dist-packages/seaborn/_oldcore.py:1119: FutureWarning: use_inf_as_na option is deprecated and will be removed in a future version. Convert inf values to NaN before operating instead.\n",
      "  with pd.option_context('mode.use_inf_as_na', True):\n",
      "/usr/local/lib/python3.11/dist-packages/seaborn/_oldcore.py:1075: FutureWarning: When grouping with a length-1 list-like, you will need to pass a length-1 tuple to get_group in a future version of pandas. Pass `(name,)` instead of `name` to silence this warning.\n",
      "  data_subset = grouped_data.get_group(pd_key)\n",
      "/usr/local/lib/python3.11/dist-packages/seaborn/_oldcore.py:1075: FutureWarning: When grouping with a length-1 list-like, you will need to pass a length-1 tuple to get_group in a future version of pandas. Pass `(name,)` instead of `name` to silence this warning.\n",
      "  data_subset = grouped_data.get_group(pd_key)\n",
      "/usr/local/lib/python3.11/dist-packages/seaborn/_oldcore.py:1075: FutureWarning: When grouping with a length-1 list-like, you will need to pass a length-1 tuple to get_group in a future version of pandas. Pass `(name,)` instead of `name` to silence this warning.\n",
      "  data_subset = grouped_data.get_group(pd_key)\n"
     ]
    },
    {
     "data": {
      "image/png": "[encoded data removed]",
      "text/plain": [
       "<Figure size 1000x700 with 1 Axes>"
      ]
     },
     "metadata": {},
     "output_type": "display_data"
    },
    {
     "name": "stdout",
     "output_type": "stream",
     "text": [
      "         count        mean         std  min    25%    50%     75%      max\n",
      "label                                                                     \n",
      "0      34074.0  426.723425  625.364040  1.0   97.0  331.0  509.00  24234.0\n",
      "1      34526.0  537.157302  567.222748  1.0  181.0  391.0  724.75  14641.0\n"
     ]
    }
   ],
   "source": [
    "plt.figure(figsize = (10, 7))\n",
    "sns.histplot(data = df, x = 'text_length', hue = 'label', bins = 50, kde = True, palette = ['blue', 'yellow'])\n",
    "plt.title(\"Distribution of Text Length\")\n",
    "plt.xlabel(\"Text Length\")\n",
    "plt.ylabel(\"Count\")\n",
    "plt.show()\n",
    "\n",
    "print(df.groupby('label')['text_length'].describe())"
   ]
  },
  {
   "cell_type": "markdown",
   "metadata": {
    "id": "VqymNY0qvHVE"
   },
   "source": [
    "## **3. Model Building**"
   ]
  },
  {
   "cell_type": "markdown",
   "metadata": {},
   "source": [
    "#### **3.1 Prepare the data**"
   ]
  },
  {
   "cell_type": "markdown",
   "metadata": {
    "id": "IDiALToq2aJk"
   },
   "source": [
    "Tôi sẽ chia data ra là Train - Validation - Test với tỷ lệ sẽ là 70, 15, 15"
   ]
  },
  {
   "cell_type": "code",
   "execution_count": 82,
   "metadata": {
    "execution": {
     "iopub.execute_input": "2025-06-08T05:06:02.063784Z",
     "iopub.status.busy": "2025-06-08T05:06:02.063356Z",
     "iopub.status.idle": "2025-06-08T05:06:02.084309Z",
     "shell.execute_reply": "2025-06-08T05:06:02.083595Z",
     "shell.execute_reply.started": "2025-06-08T05:06:02.063758Z"
    },
    "id": "_Z3n6X0-vOZV",
    "trusted": true
   },
   "outputs": [],
   "source": [
    "from sklearn.model_selection import train_test_split\n",
    "\n",
    "RANDOM_STATE = 42\n",
    "\n",
    "df_train, df_test = train_test_split(df, test_size = 0.3, random_state = RANDOM_STATE)\n",
    "df_val, df_test = train_test_split(df_test, test_size = 0.5, random_state = RANDOM_STATE)"
   ]
  },
  {
   "cell_type": "code",
   "execution_count": 83,
   "metadata": {
    "colab": {
     "base_uri": "https://localhost:8080/"
    },
    "execution": {
     "iopub.execute_input": "2025-06-08T05:06:03.069203Z",
     "iopub.status.busy": "2025-06-08T05:06:03.068925Z",
     "iopub.status.idle": "2025-06-08T05:06:03.074481Z",
     "shell.execute_reply": "2025-06-08T05:06:03.073866Z",
     "shell.execute_reply.started": "2025-06-08T05:06:03.069184Z"
    },
    "id": "H5VktmL99ld8",
    "outputId": "c0843b1a-a732-4f5a-b16b-0ada16de0449",
    "trusted": true
   },
   "outputs": [
    {
     "data": {
      "text/plain": [
       "((48020, 3), (10290, 3), (10290, 3))"
      ]
     },
     "execution_count": 83,
     "metadata": {},
     "output_type": "execute_result"
    }
   ],
   "source": [
    "df_train.shape, df_val.shape, df_test.shape"
   ]
  },
  {
   "cell_type": "markdown",
   "metadata": {
    "id": "0SWq2JeHunV-"
   },
   "source": [
    "#### **3.2 Load pre-trained BERT model**"
   ]
  },
  {
   "cell_type": "code",
   "execution_count": 84,
   "metadata": {
    "colab": {
     "base_uri": "https://localhost:8080/",
     "height": 288,
     "referenced_widgets": [
      "f5522382db1244e2832ab9233286c27f",
      "d93cadef4e0d49f08218af49d8e62604",
      "13ec43514d024b9e9f1b401ab4052bf7",
      "3f10615ce46e4c50a80038640eb3766b",
      "3cf967d1bee84e85af2241deb53bdbfd",
      "ada0bf9dca28482e8075ad70c6548355",
      "9ba4d8f258f0496faf96d54cca0f781a",
      "eff906fea2f14d1aa0c351c2a576bab2",
      "b88eb9853da14ff786ba2bc3f350c117",
      "7913169fcdf346be9ce84e01120bf3bd",
      "8b6e855a3c9e4f7db224b567b8bdace7",
      "36eacf22533e43f28c1482e70fe26b09",
      "e890c47b404d4eb990ad36f3c5615af2",
      "5306bab5cf8443b796e89bd63704b45b",
      "ad505838fcf649e3b47a03813f919214",
      "030507dc21984cf683daa1018e91be41",
      "7fb8da2be6c04c42ae80d62193d4c227",
      "0564136c11ae446c9ae64e6f104e95a4",
      "d3570968d6c641e4acd95185250c272c",
      "bffbdaa5a9034346b1984a84beacaefa",
      "c8cc09dcd4484e17a54324b802f43392",
      "84b46697442e4879a16587ca86bb7ee4",
      "3b9f09410dbd48779db790f23329c277",
      "0a3023cf03784705bda993218300c38a",
      "1d498bdbf74f4f7a9f6928aaf6e658fd",
      "611755bffcff4850b25e0bf7de734c81",
      "cdc41ca2ff8f415caeb9fb94046d8095",
      "b4f047eab0e44be8b57c401817bc03c3",
      "6a7950fc6b8f4eb0a6d5ba6a8cd24ef2",
      "0eebefba12684c4bae95a452173ab84c",
      "55cd0839a34141dc925a6e8ccc569b2e",
      "ea31252e770446458df4fc99b92b0a51",
      "18f8392f21c541559db947d723ce6998",
      "0d94fadf63cf4888a2b0707d2b578e70",
      "72b1c590337a4ad29e27b6208deed771",
      "449dad7dd6de4694acfee9a245cd6d5c",
      "e1dc74c6912849cfa6129a105b80f0d3",
      "ad8826a809c844eb86c43f7965e9294c",
      "17992b68e37146308913280bbe2caff3",
      "bb3a7a72c8e14ae28f09cc0f572ec03e",
      "e9289c3bb65c4cc1a9f6840d3d2cbc17",
      "41b984fa38ea49deb3557dc465a1492e",
      "81442b54ead3410180dc4175b72d6a6d",
      "b9e427655af4492bb0b17545597deecd",
      "a6451c60777e463581ce392e5fe20903",
      "4db717de20c943cb9f86240717e0ee48",
      "9abf8eaa43e84ecbbe8d08900a221b9d",
      "fe75615fe59542c794a5b5a895e9a1ee",
      "cd18b98ca78f4a64a0aac3f008599d9f",
      "0c24d9fa4dd14213a8c4e41e7a50f280",
      "5bfce771802b4e95bd93fb173d33495a",
      "119b30a59ce14e6690d171d02e0870f0",
      "d51dcf8fb4964098b9f9bde40fe0f791",
      "82aac8d663224170a2fed2209210724a",
      "f63fc30f75804c6ea081cf1760e6b4ee"
     ]
    },
    "execution": {
     "iopub.execute_input": "2025-06-08T05:06:05.453229Z",
     "iopub.status.busy": "2025-06-08T05:06:05.452964Z",
     "iopub.status.idle": "2025-06-08T05:06:05.645837Z",
     "shell.execute_reply": "2025-06-08T05:06:05.644996Z",
     "shell.execute_reply.started": "2025-06-08T05:06:05.453210Z"
    },
    "id": "UZTcL9vAuj18",
    "outputId": "979a1987-fdf9-4e68-a291-4aef9c650218",
    "trusted": true
   },
   "outputs": [],
   "source": [
    "from transformers import BertModel, BertTokenizer\n",
    "\n",
    "tokenizer = BertTokenizer.from_pretrained('bert-base-uncased', do_lower_case = True)"
   ]
  },
  {
   "cell_type": "markdown",
   "metadata": {
    "id": "471bTL6zAkN4"
   },
   "source": [
    "#### **3.3 Create pytorch dataset**"
   ]
  },
  {
   "cell_type": "markdown",
   "metadata": {
    "id": "qUK5swOZGjjH"
   },
   "source": [
    "Ở bước này, tôi sẽ xây dựng 1 lớp **Dataset** tùy chỉnh kế thừa từ *torch.utils.data.Dataset* để chuẩn bị dữ liệu văn bản đầu vào phù hợp với mô hình BERT.<br>\n",
    "Cụ thể:\n",
    "- Ở mỗi dòng trong dữ liệu sẽ được tokenize bằng **Tokenizer của BERT**, chuyển thành các tensor: *input_ids, attention_mask, và label*\n",
    "- **Dataset** này đóng vai trò là cầu nối giữa dữ liệu thô và mô hình, giúp chuyển đổi từng văn bản thành định dạng mà mô hình hiểu được"
   ]
  },
  {
   "cell_type": "code",
   "execution_count": 85,
   "metadata": {
    "execution": {
     "iopub.execute_input": "2025-06-08T05:06:09.399279Z",
     "iopub.status.busy": "2025-06-08T05:06:09.398548Z",
     "iopub.status.idle": "2025-06-08T05:06:09.402544Z",
     "shell.execute_reply": "2025-06-08T05:06:09.401976Z",
     "shell.execute_reply.started": "2025-06-08T05:06:09.399253Z"
    },
    "id": "aqXp3Z0-8tvN",
    "trusted": true
   },
   "outputs": [],
   "source": [
    "sample_text = df_train['text'].iloc[0]"
   ]
  },
  {
   "cell_type": "code",
   "execution_count": 86,
   "metadata": {
    "colab": {
     "base_uri": "https://localhost:8080/",
     "height": 91
    },
    "execution": {
     "iopub.execute_input": "2025-06-08T05:06:11.040359Z",
     "iopub.status.busy": "2025-06-08T05:06:11.039537Z",
     "iopub.status.idle": "2025-06-08T05:06:11.044900Z",
     "shell.execute_reply": "2025-06-08T05:06:11.044125Z",
     "shell.execute_reply.started": "2025-06-08T05:06:11.040323Z"
    },
    "id": "1mRCZ2ba_7rC",
    "outputId": "46cbeae6-315b-4c00-9a39-fae7d0bf298f",
    "trusted": true
   },
   "outputs": [
    {
     "data": {
      "text/plain": [
       "'Five militants and two soldiers were killed on Wednesday in clashes that followed a failed attack on a security checkpoint in Egypt s strife-torn North Sinai province, a military spokesman said. Troops were seeking some of the militants who fled the scene during the clashes, the spokesman said in a statement.   One of the militants, wearing an explosive vest, attempted to raid one of the security checkpoints and due to the vigilance of the security forces the terrorist was killed while the rest of the militants were dealt with,  he said.  Islamic State claimed responsibility for the attack, with its news agency Amaq saying one of its militants had set off a suicide vest at a security checkpoint. An Islamist insurgency in North Sinai has gathered pace since mid-2013 when the military ousted Islamist president Mohamed Mursi after mass protests against his rule and the group leading it pledged allegiance to Islamic State a year later. Hundreds of soldiers and police have been killed since and in recent months the attacks extended to Coptic Christians, who make up 10 percent of Egypt s 90 million population.'"
      ]
     },
     "execution_count": 86,
     "metadata": {},
     "output_type": "execute_result"
    }
   ],
   "source": [
    "sample_text"
   ]
  },
  {
   "cell_type": "code",
   "execution_count": 87,
   "metadata": {
    "colab": {
     "base_uri": "https://localhost:8080/"
    },
    "execution": {
     "iopub.execute_input": "2025-06-08T05:06:12.627102Z",
     "iopub.status.busy": "2025-06-08T05:06:12.626737Z",
     "iopub.status.idle": "2025-06-08T05:06:12.639312Z",
     "shell.execute_reply": "2025-06-08T05:06:12.638410Z",
     "shell.execute_reply.started": "2025-06-08T05:06:12.627075Z"
    },
    "id": "-dD7xYnd8wdE",
    "outputId": "06891179-f237-4b1c-ad21-a2661871262f",
    "trusted": true
   },
   "outputs": [
    {
     "name": "stderr",
     "output_type": "stream",
     "text": [
      "/usr/local/lib/python3.11/dist-packages/transformers/tokenization_utils_base.py:2700: FutureWarning: The `pad_to_max_length` argument is deprecated and will be removed in a future version, use `padding=True` or `padding='longest'` to pad to the longest sequence in the batch, or use `padding='max_length'` to pad to a max length. In this case, you can give a specific length with `max_length` (e.g. `max_length=45`) or leave max_length to None to pad to the maximal input size of the model (e.g. 512 for Bert).\n",
      "  warnings.warn(\n"
     ]
    },
    {
     "data": {
      "text/plain": [
       "dict_keys(['input_ids', 'attention_mask'])"
      ]
     },
     "execution_count": 87,
     "metadata": {},
     "output_type": "execute_result"
    }
   ],
   "source": [
    "encoding = tokenizer.encode_plus(\n",
    "    sample_text,\n",
    "    max_length = 128,\n",
    "    add_special_tokens = True,     # Add [CLS] and [SEP]\n",
    "    return_token_type_ids = False,\n",
    "    pad_to_max_length = True,\n",
    "    return_attention_mask = True,\n",
    "    return_tensors = 'pt',\n",
    "    truncation = True\n",
    ")\n",
    "\n",
    "encoding.keys()"
   ]
  },
  {
   "cell_type": "code",
   "execution_count": 88,
   "metadata": {
    "colab": {
     "base_uri": "https://localhost:8080/"
    },
    "execution": {
     "iopub.execute_input": "2025-06-08T05:06:35.286991Z",
     "iopub.status.busy": "2025-06-08T05:06:35.286682Z",
     "iopub.status.idle": "2025-06-08T05:06:35.293524Z",
     "shell.execute_reply": "2025-06-08T05:06:35.292956Z",
     "shell.execute_reply.started": "2025-06-08T05:06:35.286955Z"
    },
    "id": "Qgm_2NoSAdkY",
    "outputId": "b4e17c98-df1f-43a0-f4d2-ce7fcbf56c70",
    "trusted": true
   },
   "outputs": [
    {
     "data": {
      "text/plain": [
       "tensor([[  101,  2274, 17671,  1998,  2048,  3548,  2020,  2730,  2006,  9317,\n",
       "          1999, 17783,  2008,  2628,  1037,  3478,  2886,  2006,  1037,  3036,\n",
       "         26520,  1999,  5279,  1055, 27865,  1011,  7950,  2167, 20837,  2874,\n",
       "          1010,  1037,  2510, 14056,  2056,  1012,  3629,  2020,  6224,  2070,\n",
       "          1997,  1996, 17671,  2040,  6783,  1996,  3496,  2076,  1996, 17783,\n",
       "          1010,  1996, 14056,  2056,  1999,  1037,  4861,  1012,  2028,  1997,\n",
       "          1996, 17671,  1010,  4147,  2019, 11355, 17447,  1010,  4692,  2000,\n",
       "          8118,  2028,  1997,  1996,  3036, 26520,  2015,  1998,  2349,  2000,\n",
       "          1996,  6819, 20142,  6651,  1997,  1996,  3036,  2749,  1996,  9452,\n",
       "          2001,  2730,  2096,  1996,  2717,  1997,  1996, 17671,  2020,  9411,\n",
       "          2007,  1010,  2002,  2056,  1012,  5499,  2110,  3555,  5368,  2005,\n",
       "          1996,  2886,  1010,  2007,  2049,  2739,  4034, 25933,  4160,  3038,\n",
       "          2028,  1997,  2049, 17671,  2018,  2275,  2125,   102]])"
      ]
     },
     "execution_count": 88,
     "metadata": {},
     "output_type": "execute_result"
    }
   ],
   "source": [
    "encoding['input_ids']"
   ]
  },
  {
   "cell_type": "code",
   "execution_count": 89,
   "metadata": {
    "colab": {
     "base_uri": "https://localhost:8080/"
    },
    "execution": {
     "iopub.execute_input": "2025-06-08T05:06:36.181996Z",
     "iopub.status.busy": "2025-06-08T05:06:36.181695Z",
     "iopub.status.idle": "2025-06-08T05:06:36.188103Z",
     "shell.execute_reply": "2025-06-08T05:06:36.187459Z",
     "shell.execute_reply.started": "2025-06-08T05:06:36.181975Z"
    },
    "id": "N6t2ZjFy_-8i",
    "outputId": "8eff3e41-20fb-4376-ade1-251622c6c82b",
    "trusted": true
   },
   "outputs": [
    {
     "data": {
      "text/plain": [
       "tensor([[1, 1, 1, 1, 1, 1, 1, 1, 1, 1, 1, 1, 1, 1, 1, 1, 1, 1, 1, 1, 1, 1, 1, 1,\n",
       "         1, 1, 1, 1, 1, 1, 1, 1, 1, 1, 1, 1, 1, 1, 1, 1, 1, 1, 1, 1, 1, 1, 1, 1,\n",
       "         1, 1, 1, 1, 1, 1, 1, 1, 1, 1, 1, 1, 1, 1, 1, 1, 1, 1, 1, 1, 1, 1, 1, 1,\n",
       "         1, 1, 1, 1, 1, 1, 1, 1, 1, 1, 1, 1, 1, 1, 1, 1, 1, 1, 1, 1, 1, 1, 1, 1,\n",
       "         1, 1, 1, 1, 1, 1, 1, 1, 1, 1, 1, 1, 1, 1, 1, 1, 1, 1, 1, 1, 1, 1, 1, 1,\n",
       "         1, 1, 1, 1, 1, 1, 1, 1]])"
      ]
     },
     "execution_count": 89,
     "metadata": {},
     "output_type": "execute_result"
    }
   ],
   "source": [
    "encoding['attention_mask']"
   ]
  },
  {
   "cell_type": "code",
   "execution_count": 90,
   "metadata": {
    "colab": {
     "base_uri": "https://localhost:8080/"
    },
    "execution": {
     "iopub.execute_input": "2025-06-08T05:06:37.199188Z",
     "iopub.status.busy": "2025-06-08T05:06:37.198929Z",
     "iopub.status.idle": "2025-06-08T05:06:37.204487Z",
     "shell.execute_reply": "2025-06-08T05:06:37.203863Z",
     "shell.execute_reply.started": "2025-06-08T05:06:37.199168Z"
    },
    "id": "7zLMgCfAAf-p",
    "outputId": "4b1f14eb-8ab7-4cc4-bd80-60bc5318f6c1",
    "trusted": true
   },
   "outputs": [
    {
     "data": {
      "text/plain": [
       "(torch.Size([1, 128]), torch.Size([1, 128]))"
      ]
     },
     "execution_count": 90,
     "metadata": {},
     "output_type": "execute_result"
    }
   ],
   "source": [
    "encoding['input_ids'].shape, encoding['attention_mask'].shape"
   ]
  },
  {
   "cell_type": "markdown",
   "metadata": {
    "id": "2ViPkOqV9CDy"
   },
   "source": [
    "**max_length** là mặc định độ dài tối đa của chuỗi <br>\n",
    "**add_special_tokens** là để tự thêm [CLS] và [SEP] (phân tách câu) <br>\n",
    "**pad_to_max** là đệm chuỗi ngắn hơn max_length đã set bằng token [PAD] <br>\n",
    "**return_attention_mask** là để BERT biết phần nào của chuỗi là dữ liệu thực (1) nào là được padding (0)vào <br>\n",
    "**return_tensors** trả về dạng tensor PyTorch thay vì là list Python <br>\n",
    "**truncation** là cắt bỏ phần văn bản nếu vượt quá ký tự max_length đã set"
   ]
  },
  {
   "cell_type": "code",
   "execution_count": 91,
   "metadata": {
    "execution": {
     "iopub.execute_input": "2025-06-08T05:06:39.271767Z",
     "iopub.status.busy": "2025-06-08T05:06:39.271478Z",
     "iopub.status.idle": "2025-06-08T05:06:39.277759Z",
     "shell.execute_reply": "2025-06-08T05:06:39.277008Z",
     "shell.execute_reply.started": "2025-06-08T05:06:39.271745Z"
    },
    "id": "vRD37-JlEUUj",
    "trusted": true
   },
   "outputs": [],
   "source": [
    "from torch.utils.data import Dataset, DataLoader\n",
    "\n",
    "class FakeNewsDataset(Dataset):\n",
    "  def __init__(self, text, label, tokenizer, max_length):\n",
    "    self.text = text\n",
    "    self.label = label\n",
    "    self.tokenizer = tokenizer\n",
    "    self.max_length = max_length\n",
    "\n",
    "  def __len__(self):\n",
    "    return len(self.text)\n",
    "\n",
    "  def __getitem__(self, index):\n",
    "    text = self.text[index]\n",
    "    label = self.label[index]\n",
    "\n",
    "    encoding = self.tokenizer.encode_plus(\n",
    "        text,\n",
    "        max_length = self.max_length,\n",
    "        add_special_tokens = True,     # Add [CLS] and [SEP]\n",
    "        return_token_type_ids = False,\n",
    "        pad_to_max_length = True,\n",
    "        return_attention_mask = True,\n",
    "        return_tensors = 'pt',\n",
    "        truncation = True\n",
    "    )\n",
    "\n",
    "    return {\n",
    "        'text': text,\n",
    "        'input_ids': encoding['input_ids'].flatten(),\n",
    "        'attention_mask': encoding['attention_mask'].flatten(),\n",
    "        'label': torch.tensor(label, dtype = torch.long)\n",
    "    }"
   ]
  },
  {
   "cell_type": "markdown",
   "metadata": {
    "id": "6PpDuPbWJhM_"
   },
   "source": [
    "#### **3.4 Create a DataLoader**\n",
    "\n",
    "Sau khi đã xây dựng một Dataset chuẩn từ dữ liệu, bước tiếp theo là tạo **DataLoader** để hỗ trợ quá trình huấn luyện và đánh giá mô hình hiệu quả hơn.<br> **Mục tiêu chính** của nó là tự động chia tập dữ liệu ra thành các mini-batch, đồng thời hỗ trợ việc shuffle data và load dữ liệu, quản lý dữ liệu theo từng batch trong quá trình huấn luyện."
   ]
  },
  {
   "cell_type": "code",
   "execution_count": 92,
   "metadata": {
    "execution": {
     "iopub.execute_input": "2025-06-08T05:06:41.465085Z",
     "iopub.status.busy": "2025-06-08T05:06:41.464801Z",
     "iopub.status.idle": "2025-06-08T05:06:41.469957Z",
     "shell.execute_reply": "2025-06-08T05:06:41.469108Z",
     "shell.execute_reply.started": "2025-06-08T05:06:41.465063Z"
    },
    "id": "XQnBwtcUJjji",
    "trusted": true
   },
   "outputs": [],
   "source": [
    "def create_data_loader(df, tokenizer, max_length, batch_size):\n",
    "  dataset = FakeNewsDataset(\n",
    "      text = df['text'].to_numpy(),\n",
    "      label = df['label'].to_numpy(),\n",
    "      tokenizer = tokenizer,\n",
    "      max_length = max_length\n",
    "  )\n",
    "\n",
    "  return DataLoader(\n",
    "      dataset,\n",
    "      batch_size = batch_size,\n",
    "      num_workers = 2,\n",
    "      pin_memory = True,\n",
    "      shuffle = True\n",
    "  )"
   ]
  },
  {
   "cell_type": "code",
   "execution_count": 93,
   "metadata": {
    "execution": {
     "iopub.execute_input": "2025-06-08T05:06:44.274295Z",
     "iopub.status.busy": "2025-06-08T05:06:44.273438Z",
     "iopub.status.idle": "2025-06-08T05:06:44.282181Z",
     "shell.execute_reply": "2025-06-08T05:06:44.281199Z",
     "shell.execute_reply.started": "2025-06-08T05:06:44.274262Z"
    },
    "id": "Q7X_12wjNip1",
    "trusted": true
   },
   "outputs": [],
   "source": [
    "MAX_LEN = 128\n",
    "BATCH_SIZE = 16\n",
    "\n",
    "train_data_loader = create_data_loader(df_train, tokenizer, MAX_LEN, BATCH_SIZE)\n",
    "val_data_loader = create_data_loader(df_val, tokenizer, MAX_LEN, BATCH_SIZE)\n",
    "test_data_loader = create_data_loader(df_test, tokenizer, MAX_LEN, BATCH_SIZE)"
   ]
  },
  {
   "cell_type": "markdown",
   "metadata": {
    "id": "1o6mEUlLOk9c"
   },
   "source": [
    "#### **3.5 Build & Load model**"
   ]
  },
  {
   "cell_type": "markdown",
   "metadata": {
    "id": "KxVAsIM_gojM"
   },
   "source": [
    "Bước này tôi sẽ xây dựng một mô hình học sâu dựa trên **BERT pre-trained** để giải quyết bài toán."
   ]
  },
  {
   "cell_type": "code",
   "execution_count": 94,
   "metadata": {
    "execution": {
     "iopub.execute_input": "2025-06-08T05:06:46.426941Z",
     "iopub.status.busy": "2025-06-08T05:06:46.426109Z",
     "iopub.status.idle": "2025-06-08T05:06:46.432205Z",
     "shell.execute_reply": "2025-06-08T05:06:46.431381Z",
     "shell.execute_reply.started": "2025-06-08T05:06:46.426916Z"
    },
    "id": "qtvrlb4MOnsC",
    "trusted": true
   },
   "outputs": [],
   "source": [
    "class FakeNewsDetection(nn.Module):\n",
    "    def __init__(self, n_classes, model_name=\"bert-base-uncased\"):\n",
    "        super(FakeNewsDetection, self).__init__()\n",
    "        self.bert = BertModel.from_pretrained(model_name)               # BERT backbone\n",
    "        self.drop = nn.Dropout(p=0.3)                                   # Dropout layer\n",
    "        self.out = nn.Linear(self.bert.config.hidden_size, n_classes)   # Fully-connected layer (classifier)\n",
    "\n",
    "    def forward(self, input_ids, attention_mask):\n",
    "        outputs = self.bert(\n",
    "            input_ids = input_ids,\n",
    "            attention_mask = attention_mask\n",
    "        )\n",
    "        pooled_output = outputs.pooler_output    # shape: (batch, hidden_size): Lấy vector của token đầu tiên [CLS], đại diện cho toàn câu\n",
    "        output = self.drop(pooled_output)\n",
    "        return self.out(output)"
   ]
  },
  {
   "cell_type": "code",
   "execution_count": 95,
   "metadata": {
    "execution": {
     "iopub.execute_input": "2025-06-08T05:06:47.954337Z",
     "iopub.status.busy": "2025-06-08T05:06:47.953760Z",
     "iopub.status.idle": "2025-06-08T05:06:47.957844Z",
     "shell.execute_reply": "2025-06-08T05:06:47.957110Z",
     "shell.execute_reply.started": "2025-06-08T05:06:47.954316Z"
    },
    "id": "VOb4Sng6PGJ7",
    "trusted": true
   },
   "outputs": [],
   "source": [
    "class_names = ['Fake', 'True']\n",
    "device = torch.device(\"cuda\" if torch.cuda.is_available() else \"cpu\")"
   ]
  },
  {
   "cell_type": "code",
   "execution_count": 96,
   "metadata": {
    "execution": {
     "iopub.execute_input": "2025-06-08T05:06:48.563396Z",
     "iopub.status.busy": "2025-06-08T05:06:48.563160Z",
     "iopub.status.idle": "2025-06-08T05:06:49.015948Z",
     "shell.execute_reply": "2025-06-08T05:06:49.015339Z",
     "shell.execute_reply.started": "2025-06-08T05:06:48.563379Z"
    },
    "id": "HGkotbUtPS-x",
    "trusted": true
   },
   "outputs": [],
   "source": [
    "model = FakeNewsDetection(len(class_names))\n",
    "model = model.to(device)"
   ]
  },
  {
   "cell_type": "markdown",
   "metadata": {
    "id": "yGzIYmXvPiMI"
   },
   "source": [
    "## **4. Hyperparameter set up**"
   ]
  },
  {
   "cell_type": "markdown",
   "metadata": {
    "id": "Lh-DKXP_P_ha"
   },
   "source": [
    "#### **4.1 Set up hyperparameters for training step**"
   ]
  },
  {
   "cell_type": "code",
   "execution_count": 97,
   "metadata": {
    "execution": {
     "iopub.execute_input": "2025-06-08T05:06:52.034128Z",
     "iopub.status.busy": "2025-06-08T05:06:52.033226Z",
     "iopub.status.idle": "2025-06-08T05:06:52.040474Z",
     "shell.execute_reply": "2025-06-08T05:06:52.039711Z",
     "shell.execute_reply.started": "2025-06-08T05:06:52.034093Z"
    },
    "id": "YOktObwnPkB6",
    "trusted": true
   },
   "outputs": [],
   "source": [
    "from torch.optim import AdamW\n",
    "from transformers import get_scheduler\n",
    "\n",
    "EPOCHS = 5\n",
    "\n",
    "optimizer = AdamW(model.parameters(), lr= 2e-5, weight_decay=0.01)\n",
    "total_steps = len(train_data_loader) * EPOCHS\n",
    "\n",
    "scheduler = get_scheduler(\n",
    "    name = 'linear',\n",
    "    optimizer = optimizer,\n",
    "    num_warmup_steps = int(0.1 * total_steps),\n",
    "    num_training_steps = total_steps\n",
    ")\n",
    "\n",
    "loss_fn = nn.CrossEntropyLoss().to(device)"
   ]
  },
  {
   "cell_type": "markdown",
   "metadata": {
    "id": "X0hMcr2RQKk1"
   },
   "source": [
    "#### **4.2 Create a training & evaluating workflow**"
   ]
  },
  {
   "cell_type": "markdown",
   "metadata": {},
   "source": [
    "Training Workflow"
   ]
  },
  {
   "cell_type": "code",
   "execution_count": 98,
   "metadata": {
    "execution": {
     "iopub.execute_input": "2025-06-08T05:06:54.143814Z",
     "iopub.status.busy": "2025-06-08T05:06:54.143086Z",
     "iopub.status.idle": "2025-06-08T05:06:54.151498Z",
     "shell.execute_reply": "2025-06-08T05:06:54.150616Z",
     "shell.execute_reply.started": "2025-06-08T05:06:54.143789Z"
    },
    "trusted": true
   },
   "outputs": [],
   "source": [
    "from tqdm import tqdm\n",
    "import numpy as np\n",
    "import torch\n",
    "import os\n",
    "from sklearn.metrics import f1_score\n",
    "\n",
    "def train_epochs(model, data_loader, loss_fn, optimizer, device, scheduler, n_examples):\n",
    "    model = model.train()\n",
    "    losses = []\n",
    "    correct_predictions = 0\n",
    "    preds_list = []\n",
    "    labels_list = []\n",
    "\n",
    "    progress_bar = tqdm(data_loader, desc = \"Training\", total = len(data_loader), leave = True)\n",
    "    for batch in progress_bar:\n",
    "        input_ids = batch['input_ids'].to(device)\n",
    "        attention_mask = batch['attention_mask'].to(device)\n",
    "        label = batch['label'].to(device)\n",
    "\n",
    "        outputs = model(input_ids = input_ids, attention_mask = attention_mask)\n",
    "        _, preds = torch.max(outputs, dim=1)\n",
    "        loss = loss_fn(outputs, label)\n",
    "\n",
    "        correct_predictions += torch.sum(preds == label)\n",
    "        losses.append(loss.item())\n",
    "        preds_list.extend(preds.cpu().numpy())\n",
    "        labels_list.extend(label.cpu().numpy())\n",
    "\n",
    "        loss.backward()\n",
    "        torch.nn.utils.clip_grad_norm_(model.parameters(), max_norm = 1.0)\n",
    "        optimizer.step()\n",
    "        scheduler.step()\n",
    "        optimizer.zero_grad()\n",
    "\n",
    "        progress_bar.set_postfix({'Loss': f'{loss.item():.4f}', 'Acc': f'{(correct_predictions.double() / n_examples).item() * 100:.2f}%'})\n",
    "\n",
    "    accuracy = correct_predictions.double() / n_examples\n",
    "    f1 = f1_score(labels_list, preds_list, average='binary')\n",
    "    return accuracy, np.mean(losses), f1"
   ]
  },
  {
   "cell_type": "markdown",
   "metadata": {},
   "source": [
    "Evaluating Workflow"
   ]
  },
  {
   "cell_type": "code",
   "execution_count": 99,
   "metadata": {
    "execution": {
     "iopub.execute_input": "2025-06-08T05:06:56.609371Z",
     "iopub.status.busy": "2025-06-08T05:06:56.609095Z",
     "iopub.status.idle": "2025-06-08T05:06:56.616392Z",
     "shell.execute_reply": "2025-06-08T05:06:56.615633Z",
     "shell.execute_reply.started": "2025-06-08T05:06:56.609352Z"
    },
    "trusted": true
   },
   "outputs": [],
   "source": [
    "def eval_model(model, data_loader, loss_fn, device, n_examples):\n",
    "    model = model.eval()\n",
    "    losses = []\n",
    "    correct_predictions = 0\n",
    "    preds_list = []\n",
    "    labels_list = []\n",
    "\n",
    "    with torch.no_grad():\n",
    "        for batch in data_loader:\n",
    "            input_ids = batch['input_ids'].to(device)\n",
    "            attention_mask = batch['attention_mask'].to(device)\n",
    "            label = batch['label'].to(device)\n",
    "\n",
    "            outputs = model(input_ids = input_ids, attention_mask = attention_mask)\n",
    "            _, preds = torch.max(outputs, dim = 1)\n",
    "            loss = loss_fn(outputs, label)\n",
    "\n",
    "            correct_predictions += torch.sum(preds == label)\n",
    "            losses.append(loss.item())\n",
    "            preds_list.extend(preds.cpu().numpy())\n",
    "            labels_list.extend(label.cpu().numpy())\n",
    "\n",
    "    accuracy = correct_predictions.double() / n_examples\n",
    "    f1 = f1_score(labels_list, preds_list, average='binary')\n",
    "    return accuracy, np.mean(losses), f1 "
   ]
  },
  {
   "cell_type": "markdown",
   "metadata": {
    "id": "T78hkQxqPttv"
   },
   "source": [
    "## **5. Model Training**"
   ]
  },
  {
   "cell_type": "code",
   "execution_count": 100,
   "metadata": {
    "execution": {
     "iopub.execute_input": "2025-06-08T05:06:59.217287Z",
     "iopub.status.busy": "2025-06-08T05:06:59.216744Z",
     "iopub.status.idle": "2025-06-08T06:47:05.934300Z",
     "shell.execute_reply": "2025-06-08T06:47:05.933229Z",
     "shell.execute_reply.started": "2025-06-08T05:06:59.217261Z"
    },
    "id": "Rw2LslN_PvBa",
    "trusted": true
   },
   "outputs": [
    {
     "name": "stdout",
     "output_type": "stream",
     "text": [
      "Epoch 1/5\n",
      "--------------------\n"
     ]
    },
    {
     "name": "stderr",
     "output_type": "stream",
     "text": [
      "Training: 100%|██████████| 3002/3002 [18:39<00:00,  2.68it/s, Loss=0.0005, Acc=93.24%]"
     ]
    },
    {
     "name": "stdout",
     "output_type": "stream",
     "text": [
      "Train loss 0.1688 accuracy 0.9324 F1 0.9322\n"
     ]
    },
    {
     "name": "stderr",
     "output_type": "stream",
     "text": [
      "\n",
      "/usr/local/lib/python3.11/dist-packages/transformers/tokenization_utils_base.py:2700: FutureWarning: The `pad_to_max_length` argument is deprecated and will be removed in a future version, use `padding=True` or `padding='longest'` to pad to the longest sequence in the batch, or use `padding='max_length'` to pad to a max length. In this case, you can give a specific length with `max_length` (e.g. `max_length=45`) or leave max_length to None to pad to the maximal input size of the model (e.g. 512 for Bert).\n",
      "  warnings.warn(\n",
      "/usr/local/lib/python3.11/dist-packages/transformers/tokenization_utils_base.py:2700: FutureWarning: The `pad_to_max_length` argument is deprecated and will be removed in a future version, use `padding=True` or `padding='longest'` to pad to the longest sequence in the batch, or use `padding='max_length'` to pad to a max length. In this case, you can give a specific length with `max_length` (e.g. `max_length=45`) or leave max_length to None to pad to the maximal input size of the model (e.g. 512 for Bert).\n",
      "  warnings.warn(\n"
     ]
    },
    {
     "name": "stdout",
     "output_type": "stream",
     "text": [
      "Val loss 0.0893 accuracy 0.9809 F1 0.9807\n",
      "\n",
      "New best model saved with F1: 0.9807\n",
      "Epoch 2/5\n",
      "--------------------\n"
     ]
    },
    {
     "name": "stderr",
     "output_type": "stream",
     "text": [
      "Training:   0%|          | 0/3002 [00:00<?, ?it/s]/usr/local/lib/python3.11/dist-packages/transformers/tokenization_utils_base.py:2700: FutureWarning: The `pad_to_max_length` argument is deprecated and will be removed in a future version, use `padding=True` or `padding='longest'` to pad to the longest sequence in the batch, or use `padding='max_length'` to pad to a max length. In this case, you can give a specific length with `max_length` (e.g. `max_length=45`) or leave max_length to None to pad to the maximal input size of the model (e.g. 512 for Bert).\n",
      "  warnings.warn(\n",
      "/usr/local/lib/python3.11/dist-packages/transformers/tokenization_utils_base.py:2700: FutureWarning: The `pad_to_max_length` argument is deprecated and will be removed in a future version, use `padding=True` or `padding='longest'` to pad to the longest sequence in the batch, or use `padding='max_length'` to pad to a max length. In this case, you can give a specific length with `max_length` (e.g. `max_length=45`) or leave max_length to None to pad to the maximal input size of the model (e.g. 512 for Bert).\n",
      "  warnings.warn(\n",
      "Training: 100%|██████████| 3002/3002 [18:39<00:00,  2.68it/s, Loss=0.0002, Acc=98.84%]"
     ]
    },
    {
     "name": "stdout",
     "output_type": "stream",
     "text": [
      "Train loss 0.0468 accuracy 0.9884 F1 0.9885\n"
     ]
    },
    {
     "name": "stderr",
     "output_type": "stream",
     "text": [
      "\n",
      "/usr/local/lib/python3.11/dist-packages/transformers/tokenization_utils_base.py:2700: FutureWarning: The `pad_to_max_length` argument is deprecated and will be removed in a future version, use `padding=True` or `padding='longest'` to pad to the longest sequence in the batch, or use `padding='max_length'` to pad to a max length. In this case, you can give a specific length with `max_length` (e.g. `max_length=45`) or leave max_length to None to pad to the maximal input size of the model (e.g. 512 for Bert).\n",
      "  warnings.warn(\n",
      "/usr/local/lib/python3.11/dist-packages/transformers/tokenization_utils_base.py:2700: FutureWarning: The `pad_to_max_length` argument is deprecated and will be removed in a future version, use `padding=True` or `padding='longest'` to pad to the longest sequence in the batch, or use `padding='max_length'` to pad to a max length. In this case, you can give a specific length with `max_length` (e.g. `max_length=45`) or leave max_length to None to pad to the maximal input size of the model (e.g. 512 for Bert).\n",
      "  warnings.warn(\n"
     ]
    },
    {
     "name": "stdout",
     "output_type": "stream",
     "text": [
      "Val loss 0.0669 accuracy 0.9841 F1 0.9841\n",
      "\n",
      "New best model saved with F1: 0.9841\n",
      "Epoch 3/5\n",
      "--------------------\n"
     ]
    },
    {
     "name": "stderr",
     "output_type": "stream",
     "text": [
      "Training:   0%|          | 0/3002 [00:00<?, ?it/s]/usr/local/lib/python3.11/dist-packages/transformers/tokenization_utils_base.py:2700: FutureWarning: The `pad_to_max_length` argument is deprecated and will be removed in a future version, use `padding=True` or `padding='longest'` to pad to the longest sequence in the batch, or use `padding='max_length'` to pad to a max length. In this case, you can give a specific length with `max_length` (e.g. `max_length=45`) or leave max_length to None to pad to the maximal input size of the model (e.g. 512 for Bert).\n",
      "  warnings.warn(\n",
      "/usr/local/lib/python3.11/dist-packages/transformers/tokenization_utils_base.py:2700: FutureWarning: The `pad_to_max_length` argument is deprecated and will be removed in a future version, use `padding=True` or `padding='longest'` to pad to the longest sequence in the batch, or use `padding='max_length'` to pad to a max length. In this case, you can give a specific length with `max_length` (e.g. `max_length=45`) or leave max_length to None to pad to the maximal input size of the model (e.g. 512 for Bert).\n",
      "  warnings.warn(\n",
      "Training: 100%|██████████| 3002/3002 [18:38<00:00,  2.68it/s, Loss=0.0001, Acc=99.64%]\n"
     ]
    },
    {
     "name": "stdout",
     "output_type": "stream",
     "text": [
      "Train loss 0.0166 accuracy 0.9964 F1 0.9964\n"
     ]
    },
    {
     "name": "stderr",
     "output_type": "stream",
     "text": [
      "/usr/local/lib/python3.11/dist-packages/transformers/tokenization_utils_base.py:2700: FutureWarning: The `pad_to_max_length` argument is deprecated and will be removed in a future version, use `padding=True` or `padding='longest'` to pad to the longest sequence in the batch, or use `padding='max_length'` to pad to a max length. In this case, you can give a specific length with `max_length` (e.g. `max_length=45`) or leave max_length to None to pad to the maximal input size of the model (e.g. 512 for Bert).\n",
      "  warnings.warn(\n",
      "/usr/local/lib/python3.11/dist-packages/transformers/tokenization_utils_base.py:2700: FutureWarning: The `pad_to_max_length` argument is deprecated and will be removed in a future version, use `padding=True` or `padding='longest'` to pad to the longest sequence in the batch, or use `padding='max_length'` to pad to a max length. In this case, you can give a specific length with `max_length` (e.g. `max_length=45`) or leave max_length to None to pad to the maximal input size of the model (e.g. 512 for Bert).\n",
      "  warnings.warn(\n"
     ]
    },
    {
     "name": "stdout",
     "output_type": "stream",
     "text": [
      "Val loss 0.0718 accuracy 0.9871 F1 0.9871\n",
      "\n",
      "New best model saved with F1: 0.9871\n",
      "Epoch 4/5\n",
      "--------------------\n"
     ]
    },
    {
     "name": "stderr",
     "output_type": "stream",
     "text": [
      "Training:   0%|          | 0/3002 [00:00<?, ?it/s]/usr/local/lib/python3.11/dist-packages/transformers/tokenization_utils_base.py:2700: FutureWarning: The `pad_to_max_length` argument is deprecated and will be removed in a future version, use `padding=True` or `padding='longest'` to pad to the longest sequence in the batch, or use `padding='max_length'` to pad to a max length. In this case, you can give a specific length with `max_length` (e.g. `max_length=45`) or leave max_length to None to pad to the maximal input size of the model (e.g. 512 for Bert).\n",
      "  warnings.warn(\n",
      "/usr/local/lib/python3.11/dist-packages/transformers/tokenization_utils_base.py:2700: FutureWarning: The `pad_to_max_length` argument is deprecated and will be removed in a future version, use `padding=True` or `padding='longest'` to pad to the longest sequence in the batch, or use `padding='max_length'` to pad to a max length. In this case, you can give a specific length with `max_length` (e.g. `max_length=45`) or leave max_length to None to pad to the maximal input size of the model (e.g. 512 for Bert).\n",
      "  warnings.warn(\n",
      "Training: 100%|██████████| 3002/3002 [18:38<00:00,  2.68it/s, Loss=0.0000, Acc=99.84%]\n"
     ]
    },
    {
     "name": "stdout",
     "output_type": "stream",
     "text": [
      "Train loss 0.0075 accuracy 0.9984 F1 0.9984\n"
     ]
    },
    {
     "name": "stderr",
     "output_type": "stream",
     "text": [
      "/usr/local/lib/python3.11/dist-packages/transformers/tokenization_utils_base.py:2700: FutureWarning: The `pad_to_max_length` argument is deprecated and will be removed in a future version, use `padding=True` or `padding='longest'` to pad to the longest sequence in the batch, or use `padding='max_length'` to pad to a max length. In this case, you can give a specific length with `max_length` (e.g. `max_length=45`) or leave max_length to None to pad to the maximal input size of the model (e.g. 512 for Bert).\n",
      "  warnings.warn(\n",
      "/usr/local/lib/python3.11/dist-packages/transformers/tokenization_utils_base.py:2700: FutureWarning: The `pad_to_max_length` argument is deprecated and will be removed in a future version, use `padding=True` or `padding='longest'` to pad to the longest sequence in the batch, or use `padding='max_length'` to pad to a max length. In this case, you can give a specific length with `max_length` (e.g. `max_length=45`) or leave max_length to None to pad to the maximal input size of the model (e.g. 512 for Bert).\n",
      "  warnings.warn(\n"
     ]
    },
    {
     "name": "stdout",
     "output_type": "stream",
     "text": [
      "Val loss 0.0814 accuracy 0.9870 F1 0.9870\n",
      "\n",
      "Epoch 5/5\n",
      "--------------------\n"
     ]
    },
    {
     "name": "stderr",
     "output_type": "stream",
     "text": [
      "Training:   0%|          | 0/3002 [00:00<?, ?it/s]/usr/local/lib/python3.11/dist-packages/transformers/tokenization_utils_base.py:2700: FutureWarning: The `pad_to_max_length` argument is deprecated and will be removed in a future version, use `padding=True` or `padding='longest'` to pad to the longest sequence in the batch, or use `padding='max_length'` to pad to a max length. In this case, you can give a specific length with `max_length` (e.g. `max_length=45`) or leave max_length to None to pad to the maximal input size of the model (e.g. 512 for Bert).\n",
      "  warnings.warn(\n",
      "/usr/local/lib/python3.11/dist-packages/transformers/tokenization_utils_base.py:2700: FutureWarning: The `pad_to_max_length` argument is deprecated and will be removed in a future version, use `padding=True` or `padding='longest'` to pad to the longest sequence in the batch, or use `padding='max_length'` to pad to a max length. In this case, you can give a specific length with `max_length` (e.g. `max_length=45`) or leave max_length to None to pad to the maximal input size of the model (e.g. 512 for Bert).\n",
      "  warnings.warn(\n",
      "Training: 100%|██████████| 3002/3002 [18:37<00:00,  2.69it/s, Loss=0.0000, Acc=99.96%]\n"
     ]
    },
    {
     "name": "stdout",
     "output_type": "stream",
     "text": [
      "Train loss 0.0020 accuracy 0.9996 F1 0.9996\n"
     ]
    },
    {
     "name": "stderr",
     "output_type": "stream",
     "text": [
      "/usr/local/lib/python3.11/dist-packages/transformers/tokenization_utils_base.py:2700: FutureWarning: The `pad_to_max_length` argument is deprecated and will be removed in a future version, use `padding=True` or `padding='longest'` to pad to the longest sequence in the batch, or use `padding='max_length'` to pad to a max length. In this case, you can give a specific length with `max_length` (e.g. `max_length=45`) or leave max_length to None to pad to the maximal input size of the model (e.g. 512 for Bert).\n",
      "  warnings.warn(\n",
      "/usr/local/lib/python3.11/dist-packages/transformers/tokenization_utils_base.py:2700: FutureWarning: The `pad_to_max_length` argument is deprecated and will be removed in a future version, use `padding=True` or `padding='longest'` to pad to the longest sequence in the batch, or use `padding='max_length'` to pad to a max length. In this case, you can give a specific length with `max_length` (e.g. `max_length=45`) or leave max_length to None to pad to the maximal input size of the model (e.g. 512 for Bert).\n",
      "  warnings.warn(\n"
     ]
    },
    {
     "name": "stdout",
     "output_type": "stream",
     "text": [
      "Val loss 0.0965 accuracy 0.9871 F1 0.9871\n",
      "\n",
      "New best model saved with F1: 0.9871\n",
      "CPU times: user 1h 39min 54s, sys: 30.8 s, total: 1h 40min 24s\n",
      "Wall time: 1h 40min 6s\n"
     ]
    }
   ],
   "source": [
    "%%time\n",
    "history = {'train_acc': [], 'train_loss': [], 'train_f1': [], 'val_acc': [], 'val_loss': [], 'val_f1': []}\n",
    "best_f1 = 0\n",
    "\n",
    "for epoch in range(EPOCHS):\n",
    "    print(f'Epoch {epoch + 1}/{EPOCHS}')\n",
    "    print('-' * 20)\n",
    "\n",
    "    train_acc, train_loss, train_f1 = train_epochs(\n",
    "        model,\n",
    "        train_data_loader,\n",
    "        loss_fn,\n",
    "        optimizer,\n",
    "        device,\n",
    "        scheduler,\n",
    "        len(df_train)\n",
    "    )\n",
    "    print(f'Train loss {train_loss:.4f} accuracy {train_acc:.4f} F1 {train_f1:.4f}')\n",
    "\n",
    "    val_acc, val_loss, val_f1 = eval_model(\n",
    "        model,\n",
    "        val_data_loader,\n",
    "        loss_fn,\n",
    "        device,\n",
    "        len(df_val)\n",
    "    )\n",
    "    print(f'Val loss {val_loss:.4f} accuracy {val_acc:.4f} F1 {val_f1:.4f}')\n",
    "    print()\n",
    "\n",
    "    # Lưu lịch sử\n",
    "    history['train_acc'].append(train_acc.cpu())\n",
    "    history['train_loss'].append(train_loss)\n",
    "    history['train_f1'].append(train_f1)\n",
    "    history['val_acc'].append(val_acc.cpu())\n",
    "    history['val_loss'].append(val_loss)\n",
    "    history['val_f1'].append(val_f1)\n",
    "\n",
    "    # Lưu checkpoint vào /kaggle/working/\n",
    "    if val_f1 > best_f1:\n",
    "        best_f1 = val_f1\n",
    "        checkpoint = {\n",
    "            'epoch': epoch,\n",
    "            'model_state_dict': model.state_dict(),\n",
    "            'optimizer_state_dict': optimizer.state_dict(),\n",
    "            'scheduler_state_dict': scheduler.state_dict(),\n",
    "            'best_f1': best_f1,\n",
    "            'history': history\n",
    "        }\n",
    "        torch.save(checkpoint, '/kaggle/working/best_model_checkpoint.pt')\n",
    "        print(f\"New best model saved with F1: {best_f1:.4f}\")"
   ]
  },
  {
   "cell_type": "code",
   "execution_count": 101,
   "metadata": {
    "execution": {
     "iopub.execute_input": "2025-06-08T07:04:04.547964Z",
     "iopub.status.busy": "2025-06-08T07:04:04.547283Z",
     "iopub.status.idle": "2025-06-08T07:04:04.849844Z",
     "shell.execute_reply": "2025-06-08T07:04:04.849237Z",
     "shell.execute_reply.started": "2025-06-08T07:04:04.547934Z"
    },
    "trusted": true
   },
   "outputs": [
    {
     "data": {
      "text/plain": [
       "(0.0, 1.0)"
      ]
     },
     "execution_count": 101,
     "metadata": {},
     "output_type": "execute_result"
    },
    {
     "data": {
      "image/png": "[encoded data removed]",
      "text/plain": [
       "<Figure size 640x480 with 1 Axes>"
      ]
     },
     "metadata": {},
     "output_type": "display_data"
    }
   ],
   "source": [
    "plt.plot(history['train_acc'], label = 'Train Accuracy')\n",
    "plt.plot(history['val_acc'], label = 'Val Accuracy')\n",
    "\n",
    "plt.title('Training history')\n",
    "plt.ylabel('Accuracy')\n",
    "plt.xlabel('Epoch')\n",
    "plt.legend()\n",
    "plt.ylim([0, 1])"
   ]
  },
  {
   "cell_type": "markdown",
   "metadata": {
    "id": "FSvpoH59P1GG"
   },
   "source": [
    "## **6. Performance Evaluation**"
   ]
  },
  {
   "cell_type": "code",
   "execution_count": 103,
   "metadata": {
    "execution": {
     "iopub.execute_input": "2025-06-08T07:11:31.578986Z",
     "iopub.status.busy": "2025-06-08T07:11:31.578232Z",
     "iopub.status.idle": "2025-06-08T07:12:53.250942Z",
     "shell.execute_reply": "2025-06-08T07:12:53.250074Z",
     "shell.execute_reply.started": "2025-06-08T07:11:31.578956Z"
    },
    "id": "D3HuB24hP246",
    "trusted": true
   },
   "outputs": [
    {
     "name": "stderr",
     "output_type": "stream",
     "text": [
      "/usr/local/lib/python3.11/dist-packages/transformers/tokenization_utils_base.py:2700: FutureWarning: The `pad_to_max_length` argument is deprecated and will be removed in a future version, use `padding=True` or `padding='longest'` to pad to the longest sequence in the batch, or use `padding='max_length'` to pad to a max length. In this case, you can give a specific length with `max_length` (e.g. `max_length=45`) or leave max_length to None to pad to the maximal input size of the model (e.g. 512 for Bert).\n",
      "  warnings.warn(\n",
      "/usr/local/lib/python3.11/dist-packages/transformers/tokenization_utils_base.py:2700: FutureWarning: The `pad_to_max_length` argument is deprecated and will be removed in a future version, use `padding=True` or `padding='longest'` to pad to the longest sequence in the batch, or use `padding='max_length'` to pad to a max length. In this case, you can give a specific length with `max_length` (e.g. `max_length=45`) or leave max_length to None to pad to the maximal input size of the model (e.g. 512 for Bert).\n",
      "  warnings.warn(\n"
     ]
    },
    {
     "name": "stdout",
     "output_type": "stream",
     "text": [
      "Test Accuracy: 0.9882, Test Loss: 0.0877, Test F1: 0.9885\n"
     ]
    }
   ],
   "source": [
    "test_acc, test_loss, test_f1 = eval_model(\n",
    "    model,\n",
    "    test_data_loader,\n",
    "    loss_fn,\n",
    "    device,\n",
    "    len(df_test)\n",
    ")\n",
    "\n",
    "print(f\"Test Accuracy: {test_acc:.4f}, Test Loss: {test_loss:.4f}, Test F1: {test_f1:.4f}\")"
   ]
  },
  {
   "cell_type": "code",
   "execution_count": null,
   "metadata": {
    "execution": {
     "iopub.execute_input": "2025-06-08T07:18:08.583808Z",
     "iopub.status.busy": "2025-06-08T07:18:08.583128Z",
     "iopub.status.idle": "2025-06-08T07:18:08.590622Z",
     "shell.execute_reply": "2025-06-08T07:18:08.589803Z",
     "shell.execute_reply.started": "2025-06-08T07:18:08.583781Z"
    },
    "trusted": true
   },
   "outputs": [],
   "source": [
    "import torch.nn.functional as F\n",
    "\n",
    "def get_predictions(model, data_loader):\n",
    "    model = model.eval()\n",
    "\n",
    "    # review_texts = []\n",
    "    predictions = []\n",
    "    prediction_probs = []\n",
    "    real_values = []\n",
    "\n",
    "    with torch.no_grad():\n",
    "        for d in data_loader:\n",
    "            # texts = d[\"text\"]\n",
    "            input_ids = d[\"input_ids\"].to(device)\n",
    "            attention_mask = d[\"attention_mask\"].to(device)\n",
    "            labels = d[\"label\"].to(device)  \n",
    "\n",
    "            outputs = model(input_ids = input_ids, attention_mask = attention_mask)\n",
    "            _, preds = torch.max(outputs, dim = 1)\n",
    "\n",
    "            probs = F.softmax(outputs, dim = 1) \n",
    "\n",
    "            # review_texts.extend(texts)\n",
    "            predictions.extend(preds.cpu().numpy())  \n",
    "            prediction_probs.extend(probs.cpu().numpy())  \n",
    "            real_values.extend(labels.cpu().numpy()) \n",
    "\n",
    "    predictions = torch.tensor(predictions)\n",
    "    prediction_probs = torch.tensor(prediction_probs)\n",
    "    real_values = torch.tensor(real_values)\n",
    "    return predictions, prediction_probs, real_values"
   ]
  },
  {
   "cell_type": "code",
   "execution_count": 109,
   "metadata": {
    "execution": {
     "iopub.execute_input": "2025-06-08T07:18:10.607414Z",
     "iopub.status.busy": "2025-06-08T07:18:10.606716Z",
     "iopub.status.idle": "2025-06-08T07:19:31.756248Z",
     "shell.execute_reply": "2025-06-08T07:19:31.755257Z",
     "shell.execute_reply.started": "2025-06-08T07:18:10.607390Z"
    },
    "trusted": true
   },
   "outputs": [
    {
     "name": "stderr",
     "output_type": "stream",
     "text": [
      "/usr/local/lib/python3.11/dist-packages/transformers/tokenization_utils_base.py:2700: FutureWarning: The `pad_to_max_length` argument is deprecated and will be removed in a future version, use `padding=True` or `padding='longest'` to pad to the longest sequence in the batch, or use `padding='max_length'` to pad to a max length. In this case, you can give a specific length with `max_length` (e.g. `max_length=45`) or leave max_length to None to pad to the maximal input size of the model (e.g. 512 for Bert).\n",
      "  warnings.warn(\n",
      "/usr/local/lib/python3.11/dist-packages/transformers/tokenization_utils_base.py:2700: FutureWarning: The `pad_to_max_length` argument is deprecated and will be removed in a future version, use `padding=True` or `padding='longest'` to pad to the longest sequence in the batch, or use `padding='max_length'` to pad to a max length. In this case, you can give a specific length with `max_length` (e.g. `max_length=45`) or leave max_length to None to pad to the maximal input size of the model (e.g. 512 for Bert).\n",
      "  warnings.warn(\n"
     ]
    }
   ],
   "source": [
    "y_pred, y_pred_probs, y_test = get_predictions(\n",
    "  model,\n",
    "  test_data_loader\n",
    ")"
   ]
  },
  {
   "cell_type": "code",
   "execution_count": 110,
   "metadata": {
    "execution": {
     "iopub.execute_input": "2025-06-08T07:19:31.758029Z",
     "iopub.status.busy": "2025-06-08T07:19:31.757788Z",
     "iopub.status.idle": "2025-06-08T07:19:31.774803Z",
     "shell.execute_reply": "2025-06-08T07:19:31.774024Z",
     "shell.execute_reply.started": "2025-06-08T07:19:31.758006Z"
    },
    "trusted": true
   },
   "outputs": [
    {
     "name": "stdout",
     "output_type": "stream",
     "text": [
      "              precision    recall  f1-score   support\n",
      "\n",
      "        Fake       0.99      0.99      0.99      5039\n",
      "        True       0.99      0.99      0.99      5251\n",
      "\n",
      "    accuracy                           0.99     10290\n",
      "   macro avg       0.99      0.99      0.99     10290\n",
      "weighted avg       0.99      0.99      0.99     10290\n",
      "\n"
     ]
    }
   ],
   "source": [
    "from sklearn.metrics import confusion_matrix, classification_report\n",
    "\n",
    "print(classification_report(y_test, y_pred, target_names=class_names))"
   ]
  },
  {
   "cell_type": "code",
   "execution_count": null,
   "metadata": {
    "execution": {
     "iopub.execute_input": "2025-06-08T07:20:55.284924Z",
     "iopub.status.busy": "2025-06-08T07:20:55.284620Z",
     "iopub.status.idle": "2025-06-08T07:20:55.503599Z",
     "shell.execute_reply": "2025-06-08T07:20:55.502937Z",
     "shell.execute_reply.started": "2025-06-08T07:20:55.284903Z"
    },
    "trusted": true
   },
   "outputs": [
    {
     "data": {
      "image/png": "[encoded data removed]",
      "text/plain": [
       "<Figure size 640x480 with 2 Axes>"
      ]
     },
     "metadata": {},
     "output_type": "display_data"
    }
   ],
   "source": [
    "def show_confusion_matrix(confusion_matrix):\n",
    "  hmap = sns.heatmap(confusion_matrix, annot=True, fmt=\"d\")\n",
    "  hmap.yaxis.set_ticklabels(hmap.yaxis.get_ticklabels(), rotation=0, ha='right')\n",
    "  hmap.xaxis.set_ticklabels(hmap.xaxis.get_ticklabels(), rotation=30, ha='right')\n",
    "  plt.ylabel('True')\n",
    "  plt.xlabel('Predicted')\n",
    "\n",
    "cm = confusion_matrix(y_test, y_pred)\n",
    "df_cm = pd.DataFrame(cm, index=class_names, columns=class_names)\n",
    "show_confusion_matrix(df_cm)"
   ]
  },
  {
   "cell_type": "markdown",
   "metadata": {
    "id": "qqu2YN-TQS1h"
   },
   "source": [
    "## **7. Model Inference**"
   ]
  },
  {
   "cell_type": "code",
   "execution_count": 114,
   "metadata": {
    "execution": {
     "iopub.execute_input": "2025-06-08T07:23:28.213706Z",
     "iopub.status.busy": "2025-06-08T07:23:28.213087Z",
     "iopub.status.idle": "2025-06-08T07:23:28.219662Z",
     "shell.execute_reply": "2025-06-08T07:23:28.218848Z",
     "shell.execute_reply.started": "2025-06-08T07:23:28.213679Z"
    },
    "id": "sOf_WuNkQUFA",
    "trusted": true
   },
   "outputs": [],
   "source": [
    "class ModelInference:\n",
    "    def __init__(self, model, tokenizer, device, max_len=128):\n",
    "        self.model = model\n",
    "        self.tokenizer = tokenizer\n",
    "        self.device = device\n",
    "        self.max_len = max_len\n",
    "\n",
    "    def predict(self, text):\n",
    "        self.model.eval()\n",
    "        encoding = self.tokenizer.encode_plus(\n",
    "            text,\n",
    "            add_special_tokens=True,\n",
    "            max_length=self.max_len,\n",
    "            return_token_type_ids=False,\n",
    "            pad_to_max_length=True,\n",
    "            return_attention_mask=True,\n",
    "            return_tensors='pt',\n",
    "            truncation=True\n",
    "        )\n",
    "\n",
    "        input_ids = encoding['input_ids'].to(self.device)\n",
    "        attention_mask = encoding['attention_mask'].to(self.device)\n",
    "\n",
    "        with torch.no_grad():\n",
    "            outputs = self.model(\n",
    "                input_ids = input_ids,\n",
    "                attention_mask = attention_mask\n",
    "            )\n",
    "\n",
    "        prediction = torch.argmax(outputs, dim=1).cpu().numpy()[0]\n",
    "        return \"The news is TRUE!\" if prediction == 1 else \"The news is FAKE!\""
   ]
  },
  {
   "cell_type": "code",
   "execution_count": 115,
   "metadata": {
    "execution": {
     "iopub.execute_input": "2025-06-08T07:23:31.064066Z",
     "iopub.status.busy": "2025-06-08T07:23:31.063597Z",
     "iopub.status.idle": "2025-06-08T07:23:31.087110Z",
     "shell.execute_reply": "2025-06-08T07:23:31.086548Z",
     "shell.execute_reply.started": "2025-06-08T07:23:31.064042Z"
    },
    "trusted": true
   },
   "outputs": [
    {
     "name": "stdout",
     "output_type": "stream",
     "text": [
      "\n",
      "Sample Prediction:\n",
      "Text: A secret government document leaked online reveals that the COVID-19 pandemic was entirely fabricated to allow mass surveillance via 5G towers. Scientists involved in vaccine development are part of a larger plan to control global behavior.\n",
      "Prediction: The news is FAKE!\n"
     ]
    }
   ],
   "source": [
    "inference = ModelInference(model, tokenizer, device, max_len=MAX_LEN)\n",
    "sample_text = \"A secret government document leaked online reveals that the COVID-19 pandemic was entirely fabricated to allow mass surveillance via 5G towers. Scientists involved in vaccine development are part of a larger plan to control global behavior.\"\n",
    "prediction = inference.predict(sample_text)\n",
    "print(f\"\\nSample Prediction:\")\n",
    "print(f\"Text: {sample_text}\")\n",
    "print(f\"Prediction: {prediction}\")"
   ]
  },
  {
   "cell_type": "code",
   "execution_count": 117,
   "metadata": {
    "execution": {
     "iopub.execute_input": "2025-06-08T07:24:34.643537Z",
     "iopub.status.busy": "2025-06-08T07:24:34.642865Z",
     "iopub.status.idle": "2025-06-08T07:24:34.666686Z",
     "shell.execute_reply": "2025-06-08T07:24:34.665965Z",
     "shell.execute_reply.started": "2025-06-08T07:24:34.643515Z"
    },
    "trusted": true
   },
   "outputs": [
    {
     "name": "stdout",
     "output_type": "stream",
     "text": [
      "\n",
      "Sample Prediction:\n",
      "Text: The CDC announced today that the flu vaccine for the 2024-2025 season is proving to be 68% effective against the most common strains so far this year. Public health experts urge people to get vaccinated, especially children, the elderly, and those with chronic conditions.\n",
      "Prediction: The news is FAKE!\n"
     ]
    }
   ],
   "source": [
    "inference = ModelInference(model, tokenizer, device, max_len=MAX_LEN)\n",
    "sample_text = \"The CDC announced today that the flu vaccine for the 2024-2025 season is proving to be 68% effective against the most common strains so far this year. Public health experts urge people to get vaccinated, especially children, the elderly, and those with chronic conditions.\"\n",
    "prediction = inference.predict(sample_text)\n",
    "print(f\"\\nSample Prediction:\")\n",
    "print(f\"Text: {sample_text}\")\n",
    "print(f\"Prediction: {prediction}\")"
   ]
  }
 ],
 "metadata": {
  "accelerator": "GPU",
  "colab": {
   "gpuType": "T4",
   "provenance": []
  },
  "kaggle": {
   "accelerator": "nvidiaTeslaT4",
   "dataSources": [
    {
     "datasetId": 7613135,
     "sourceId": 12093718,
     "sourceType": "datasetVersion"
    }
   ],
   "dockerImageVersionId": 31041,
   "isGpuEnabled": true,
   "isInternetEnabled": true,
   "language": "python",
   "sourceType": "notebook"
  },
  "kernelspec": {
   "display_name": "Python 3",
   "language": "python",
   "name": "python3"
  },
  "language_info": {
   "codemirror_mode": {
    "name": "ipython",
    "version": 3
   },
   "file_extension": ".py",
   "mimetype": "text/x-python",
   "name": "python",
   "nbconvert_exporter": "python",
   "pygments_lexer": "ipython3",
   "version": "3.11.11"
  },
  "widgets": {
   "application/vnd.jupyter.widget-state+json": {
    "030507dc21984cf683daa1018e91be41": {
     "model_module": "@jupyter-widgets/base",
     "model_module_version": "1.2.0",
     "model_name": "LayoutModel",
     "state": {
      "_model_module": "@jupyter-widgets/base",
      "_model_module_version": "1.2.0",
      "_model_name": "LayoutModel",
      "_view_count": null,
      "_view_module": "@jupyter-widgets/base",
      "_view_module_version": "1.2.0",
      "_view_name": "LayoutView",
      "align_content": null,
      "align_items": null,
      "align_self": null,
      "border": null,
      "bottom": null,
      "display": null,
      "flex": null,
      "flex_flow": null,
      "grid_area": null,
      "grid_auto_columns": null,
      "grid_auto_flow": null,
      "grid_auto_rows": null,
      "grid_column": null,
      "grid_gap": null,
      "grid_row": null,
      "grid_template_areas": null,
      "grid_template_columns": null,
      "grid_template_rows": null,
      "height": null,
      "justify_content": null,
      "justify_items": null,
      "left": null,
      "margin": null,
      "max_height": null,
      "max_width": null,
      "min_height": null,
      "min_width": null,
      "object_fit": null,
      "object_position": null,
      "order": null,
      "overflow": null,
      "overflow_x": null,
      "overflow_y": null,
      "padding": null,
      "right": null,
      "top": null,
      "visibility": null,
      "width": null
     }
    },
    "0564136c11ae446c9ae64e6f104e95a4": {
     "model_module": "@jupyter-widgets/controls",
     "model_module_version": "1.5.0",
     "model_name": "DescriptionStyleModel",
     "state": {
      "_model_module": "@jupyter-widgets/controls",
      "_model_module_version": "1.5.0",
      "_model_name": "DescriptionStyleModel",
      "_view_count": null,
      "_view_module": "@jupyter-widgets/base",
      "_view_module_version": "1.2.0",
      "_view_name": "StyleView",
      "description_width": ""
     }
    },
    "0a3023cf03784705bda993218300c38a": {
     "model_module": "@jupyter-widgets/controls",
     "model_module_version": "1.5.0",
     "model_name": "HTMLModel",
     "state": {
      "_dom_classes": [],
      "_model_module": "@jupyter-widgets/controls",
      "_model_module_version": "1.5.0",
      "_model_name": "HTMLModel",
      "_view_count": null,
      "_view_module": "@jupyter-widgets/controls",
      "_view_module_version": "1.5.0",
      "_view_name": "HTMLView",
      "description": "",
      "description_tooltip": null,
      "layout": "IPY_MODEL_b4f047eab0e44be8b57c401817bc03c3",
      "placeholder": "​",
      "style": "IPY_MODEL_6a7950fc6b8f4eb0a6d5ba6a8cd24ef2",
      "value": "tokenizer_config.json: 100%"
     }
    },
    "0c24d9fa4dd14213a8c4e41e7a50f280": {
     "model_module": "@jupyter-widgets/base",
     "model_module_version": "1.2.0",
     "model_name": "LayoutModel",
     "state": {
      "_model_module": "@jupyter-widgets/base",
      "_model_module_version": "1.2.0",
      "_model_name": "LayoutModel",
      "_view_count": null,
      "_view_module": "@jupyter-widgets/base",
      "_view_module_version": "1.2.0",
      "_view_name": "LayoutView",
      "align_content": null,
      "align_items": null,
      "align_self": null,
      "border": null,
      "bottom": null,
      "display": null,
      "flex": null,
      "flex_flow": null,
      "grid_area": null,
      "grid_auto_columns": null,
      "grid_auto_flow": null,
      "grid_auto_rows": null,
      "grid_column": null,
      "grid_gap": null,
      "grid_row": null,
      "grid_template_areas": null,
      "grid_template_columns": null,
      "grid_template_rows": null,
      "height": null,
      "justify_content": null,
      "justify_items": null,
      "left": null,
      "margin": null,
      "max_height": null,
      "max_width": null,
      "min_height": null,
      "min_width": null,
      "object_fit": null,
      "object_position": null,
      "order": null,
      "overflow": null,
      "overflow_x": null,
      "overflow_y": null,
      "padding": null,
      "right": null,
      "top": null,
      "visibility": null,
      "width": null
     }
    },
    "0d94fadf63cf4888a2b0707d2b578e70": {
     "model_module": "@jupyter-widgets/controls",
     "model_module_version": "1.5.0",
     "model_name": "HBoxModel",
     "state": {
      "_dom_classes": [],
      "_model_module": "@jupyter-widgets/controls",
      "_model_module_version": "1.5.0",
      "_model_name": "HBoxModel",
      "_view_count": null,
      "_view_module": "@jupyter-widgets/controls",
      "_view_module_version": "1.5.0",
      "_view_name": "HBoxView",
      "box_style": "",
      "children": [
       "IPY_MODEL_72b1c590337a4ad29e27b6208deed771",
       "IPY_MODEL_449dad7dd6de4694acfee9a245cd6d5c",
       "IPY_MODEL_e1dc74c6912849cfa6129a105b80f0d3"
      ],
      "layout": "IPY_MODEL_ad8826a809c844eb86c43f7965e9294c"
     }
    },
    "0eebefba12684c4bae95a452173ab84c": {
     "model_module": "@jupyter-widgets/base",
     "model_module_version": "1.2.0",
     "model_name": "LayoutModel",
     "state": {
      "_model_module": "@jupyter-widgets/base",
      "_model_module_version": "1.2.0",
      "_model_name": "LayoutModel",
      "_view_count": null,
      "_view_module": "@jupyter-widgets/base",
      "_view_module_version": "1.2.0",
      "_view_name": "LayoutView",
      "align_content": null,
      "align_items": null,
      "align_self": null,
      "border": null,
      "bottom": null,
      "display": null,
      "flex": null,
      "flex_flow": null,
      "grid_area": null,
      "grid_auto_columns": null,
      "grid_auto_flow": null,
      "grid_auto_rows": null,
      "grid_column": null,
      "grid_gap": null,
      "grid_row": null,
      "grid_template_areas": null,
      "grid_template_columns": null,
      "grid_template_rows": null,
      "height": null,
      "justify_content": null,
      "justify_items": null,
      "left": null,
      "margin": null,
      "max_height": null,
      "max_width": null,
      "min_height": null,
      "min_width": null,
      "object_fit": null,
      "object_position": null,
      "order": null,
      "overflow": null,
      "overflow_x": null,
      "overflow_y": null,
      "padding": null,
      "right": null,
      "top": null,
      "visibility": null,
      "width": null
     }
    },
    "119b30a59ce14e6690d171d02e0870f0": {
     "model_module": "@jupyter-widgets/base",
     "model_module_version": "1.2.0",
     "model_name": "LayoutModel",
     "state": {
      "_model_module": "@jupyter-widgets/base",
      "_model_module_version": "1.2.0",
      "_model_name": "LayoutModel",
      "_view_count": null,
      "_view_module": "@jupyter-widgets/base",
      "_view_module_version": "1.2.0",
      "_view_name": "LayoutView",
      "align_content": null,
      "align_items": null,
      "align_self": null,
      "border": null,
      "bottom": null,
      "display": null,
      "flex": null,
      "flex_flow": null,
      "grid_area": null,
      "grid_auto_columns": null,
      "grid_auto_flow": null,
      "grid_auto_rows": null,
      "grid_column": null,
      "grid_gap": null,
      "grid_row": null,
      "grid_template_areas": null,
      "grid_template_columns": null,
      "grid_template_rows": null,
      "height": null,
      "justify_content": null,
      "justify_items": null,
      "left": null,
      "margin": null,
      "max_height": null,
      "max_width": null,
      "min_height": null,
      "min_width": null,
      "object_fit": null,
      "object_position": null,
      "order": null,
      "overflow": null,
      "overflow_x": null,
      "overflow_y": null,
      "padding": null,
      "right": null,
      "top": null,
      "visibility": null,
      "width": null
     }
    },
    "13ec43514d024b9e9f1b401ab4052bf7": {
     "model_module": "@jupyter-widgets/controls",
     "model_module_version": "1.5.0",
     "model_name": "FloatProgressModel",
     "state": {
      "_dom_classes": [],
      "_model_module": "@jupyter-widgets/controls",
      "_model_module_version": "1.5.0",
      "_model_name": "FloatProgressModel",
      "_view_count": null,
      "_view_module": "@jupyter-widgets/controls",
      "_view_module_version": "1.5.0",
      "_view_name": "ProgressView",
      "bar_style": "success",
      "description": "",
      "description_tooltip": null,
      "layout": "IPY_MODEL_eff906fea2f14d1aa0c351c2a576bab2",
      "max": 570,
      "min": 0,
      "orientation": "horizontal",
      "style": "IPY_MODEL_b88eb9853da14ff786ba2bc3f350c117",
      "value": 570
     }
    },
    "17992b68e37146308913280bbe2caff3": {
     "model_module": "@jupyter-widgets/base",
     "model_module_version": "1.2.0",
     "model_name": "LayoutModel",
     "state": {
      "_model_module": "@jupyter-widgets/base",
      "_model_module_version": "1.2.0",
      "_model_name": "LayoutModel",
      "_view_count": null,
      "_view_module": "@jupyter-widgets/base",
      "_view_module_version": "1.2.0",
      "_view_name": "LayoutView",
      "align_content": null,
      "align_items": null,
      "align_self": null,
      "border": null,
      "bottom": null,
      "display": null,
      "flex": null,
      "flex_flow": null,
      "grid_area": null,
      "grid_auto_columns": null,
      "grid_auto_flow": null,
      "grid_auto_rows": null,
      "grid_column": null,
      "grid_gap": null,
      "grid_row": null,
      "grid_template_areas": null,
      "grid_template_columns": null,
      "grid_template_rows": null,
      "height": null,
      "justify_content": null,
      "justify_items": null,
      "left": null,
      "margin": null,
      "max_height": null,
      "max_width": null,
      "min_height": null,
      "min_width": null,
      "object_fit": null,
      "object_position": null,
      "order": null,
      "overflow": null,
      "overflow_x": null,
      "overflow_y": null,
      "padding": null,
      "right": null,
      "top": null,
      "visibility": null,
      "width": null
     }
    },
    "18f8392f21c541559db947d723ce6998": {
     "model_module": "@jupyter-widgets/controls",
     "model_module_version": "1.5.0",
     "model_name": "DescriptionStyleModel",
     "state": {
      "_model_module": "@jupyter-widgets/controls",
      "_model_module_version": "1.5.0",
      "_model_name": "DescriptionStyleModel",
      "_view_count": null,
      "_view_module": "@jupyter-widgets/base",
      "_view_module_version": "1.2.0",
      "_view_name": "StyleView",
      "description_width": ""
     }
    },
    "1d498bdbf74f4f7a9f6928aaf6e658fd": {
     "model_module": "@jupyter-widgets/controls",
     "model_module_version": "1.5.0",
     "model_name": "FloatProgressModel",
     "state": {
      "_dom_classes": [],
      "_model_module": "@jupyter-widgets/controls",
      "_model_module_version": "1.5.0",
      "_model_name": "FloatProgressModel",
      "_view_count": null,
      "_view_module": "@jupyter-widgets/controls",
      "_view_module_version": "1.5.0",
      "_view_name": "ProgressView",
      "bar_style": "success",
      "description": "",
      "description_tooltip": null,
      "layout": "IPY_MODEL_0eebefba12684c4bae95a452173ab84c",
      "max": 48,
      "min": 0,
      "orientation": "horizontal",
      "style": "IPY_MODEL_55cd0839a34141dc925a6e8ccc569b2e",
      "value": 48
     }
    },
    "36eacf22533e43f28c1482e70fe26b09": {
     "model_module": "@jupyter-widgets/controls",
     "model_module_version": "1.5.0",
     "model_name": "HBoxModel",
     "state": {
      "_dom_classes": [],
      "_model_module": "@jupyter-widgets/controls",
      "_model_module_version": "1.5.0",
      "_model_name": "HBoxModel",
      "_view_count": null,
      "_view_module": "@jupyter-widgets/controls",
      "_view_module_version": "1.5.0",
      "_view_name": "HBoxView",
      "box_style": "",
      "children": [
       "IPY_MODEL_e890c47b404d4eb990ad36f3c5615af2",
       "IPY_MODEL_5306bab5cf8443b796e89bd63704b45b",
       "IPY_MODEL_ad505838fcf649e3b47a03813f919214"
      ],
      "layout": "IPY_MODEL_030507dc21984cf683daa1018e91be41"
     }
    },
    "3b9f09410dbd48779db790f23329c277": {
     "model_module": "@jupyter-widgets/controls",
     "model_module_version": "1.5.0",
     "model_name": "HBoxModel",
     "state": {
      "_dom_classes": [],
      "_model_module": "@jupyter-widgets/controls",
      "_model_module_version": "1.5.0",
      "_model_name": "HBoxModel",
      "_view_count": null,
      "_view_module": "@jupyter-widgets/controls",
      "_view_module_version": "1.5.0",
      "_view_name": "HBoxView",
      "box_style": "",
      "children": [
       "IPY_MODEL_0a3023cf03784705bda993218300c38a",
       "IPY_MODEL_1d498bdbf74f4f7a9f6928aaf6e658fd",
       "IPY_MODEL_611755bffcff4850b25e0bf7de734c81"
      ],
      "layout": "IPY_MODEL_cdc41ca2ff8f415caeb9fb94046d8095"
     }
    },
    "3cf967d1bee84e85af2241deb53bdbfd": {
     "model_module": "@jupyter-widgets/base",
     "model_module_version": "1.2.0",
     "model_name": "LayoutModel",
     "state": {
      "_model_module": "@jupyter-widgets/base",
      "_model_module_version": "1.2.0",
      "_model_name": "LayoutModel",
      "_view_count": null,
      "_view_module": "@jupyter-widgets/base",
      "_view_module_version": "1.2.0",
      "_view_name": "LayoutView",
      "align_content": null,
      "align_items": null,
      "align_self": null,
      "border": null,
      "bottom": null,
      "display": null,
      "flex": null,
      "flex_flow": null,
      "grid_area": null,
      "grid_auto_columns": null,
      "grid_auto_flow": null,
      "grid_auto_rows": null,
      "grid_column": null,
      "grid_gap": null,
      "grid_row": null,
      "grid_template_areas": null,
      "grid_template_columns": null,
      "grid_template_rows": null,
      "height": null,
      "justify_content": null,
      "justify_items": null,
      "left": null,
      "margin": null,
      "max_height": null,
      "max_width": null,
      "min_height": null,
      "min_width": null,
      "object_fit": null,
      "object_position": null,
      "order": null,
      "overflow": null,
      "overflow_x": null,
      "overflow_y": null,
      "padding": null,
      "right": null,
      "top": null,
      "visibility": null,
      "width": null
     }
    },
    "3f10615ce46e4c50a80038640eb3766b": {
     "model_module": "@jupyter-widgets/controls",
     "model_module_version": "1.5.0",
     "model_name": "HTMLModel",
     "state": {
      "_dom_classes": [],
      "_model_module": "@jupyter-widgets/controls",
      "_model_module_version": "1.5.0",
      "_model_name": "HTMLModel",
      "_view_count": null,
      "_view_module": "@jupyter-widgets/controls",
      "_view_module_version": "1.5.0",
      "_view_name": "HTMLView",
      "description": "",
      "description_tooltip": null,
      "layout": "IPY_MODEL_7913169fcdf346be9ce84e01120bf3bd",
      "placeholder": "​",
      "style": "IPY_MODEL_8b6e855a3c9e4f7db224b567b8bdace7",
      "value": " 570/570 [00:00&lt;00:00, 14.9kB/s]"
     }
    },
    "41b984fa38ea49deb3557dc465a1492e": {
     "model_module": "@jupyter-widgets/controls",
     "model_module_version": "1.5.0",
     "model_name": "ProgressStyleModel",
     "state": {
      "_model_module": "@jupyter-widgets/controls",
      "_model_module_version": "1.5.0",
      "_model_name": "ProgressStyleModel",
      "_view_count": null,
      "_view_module": "@jupyter-widgets/base",
      "_view_module_version": "1.2.0",
      "_view_name": "StyleView",
      "bar_color": null,
      "description_width": ""
     }
    },
    "449dad7dd6de4694acfee9a245cd6d5c": {
     "model_module": "@jupyter-widgets/controls",
     "model_module_version": "1.5.0",
     "model_name": "FloatProgressModel",
     "state": {
      "_dom_classes": [],
      "_model_module": "@jupyter-widgets/controls",
      "_model_module_version": "1.5.0",
      "_model_name": "FloatProgressModel",
      "_view_count": null,
      "_view_module": "@jupyter-widgets/controls",
      "_view_module_version": "1.5.0",
      "_view_name": "ProgressView",
      "bar_style": "success",
      "description": "",
      "description_tooltip": null,
      "layout": "IPY_MODEL_e9289c3bb65c4cc1a9f6840d3d2cbc17",
      "max": 231508,
      "min": 0,
      "orientation": "horizontal",
      "style": "IPY_MODEL_41b984fa38ea49deb3557dc465a1492e",
      "value": 231508
     }
    },
    "4db717de20c943cb9f86240717e0ee48": {
     "model_module": "@jupyter-widgets/controls",
     "model_module_version": "1.5.0",
     "model_name": "HTMLModel",
     "state": {
      "_dom_classes": [],
      "_model_module": "@jupyter-widgets/controls",
      "_model_module_version": "1.5.0",
      "_model_name": "HTMLModel",
      "_view_count": null,
      "_view_module": "@jupyter-widgets/controls",
      "_view_module_version": "1.5.0",
      "_view_name": "HTMLView",
      "description": "",
      "description_tooltip": null,
      "layout": "IPY_MODEL_0c24d9fa4dd14213a8c4e41e7a50f280",
      "placeholder": "​",
      "style": "IPY_MODEL_5bfce771802b4e95bd93fb173d33495a",
      "value": "tokenizer.json: 100%"
     }
    },
    "5306bab5cf8443b796e89bd63704b45b": {
     "model_module": "@jupyter-widgets/controls",
     "model_module_version": "1.5.0",
     "model_name": "FloatProgressModel",
     "state": {
      "_dom_classes": [],
      "_model_module": "@jupyter-widgets/controls",
      "_model_module_version": "1.5.0",
      "_model_name": "FloatProgressModel",
      "_view_count": null,
      "_view_module": "@jupyter-widgets/controls",
      "_view_module_version": "1.5.0",
      "_view_name": "ProgressView",
      "bar_style": "success",
      "description": "",
      "description_tooltip": null,
      "layout": "IPY_MODEL_d3570968d6c641e4acd95185250c272c",
      "max": 440449768,
      "min": 0,
      "orientation": "horizontal",
      "style": "IPY_MODEL_bffbdaa5a9034346b1984a84beacaefa",
      "value": 440449768
     }
    },
    "55cd0839a34141dc925a6e8ccc569b2e": {
     "model_module": "@jupyter-widgets/controls",
     "model_module_version": "1.5.0",
     "model_name": "ProgressStyleModel",
     "state": {
      "_model_module": "@jupyter-widgets/controls",
      "_model_module_version": "1.5.0",
      "_model_name": "ProgressStyleModel",
      "_view_count": null,
      "_view_module": "@jupyter-widgets/base",
      "_view_module_version": "1.2.0",
      "_view_name": "StyleView",
      "bar_color": null,
      "description_width": ""
     }
    },
    "5bfce771802b4e95bd93fb173d33495a": {
     "model_module": "@jupyter-widgets/controls",
     "model_module_version": "1.5.0",
     "model_name": "DescriptionStyleModel",
     "state": {
      "_model_module": "@jupyter-widgets/controls",
      "_model_module_version": "1.5.0",
      "_model_name": "DescriptionStyleModel",
      "_view_count": null,
      "_view_module": "@jupyter-widgets/base",
      "_view_module_version": "1.2.0",
      "_view_name": "StyleView",
      "description_width": ""
     }
    },
    "611755bffcff4850b25e0bf7de734c81": {
     "model_module": "@jupyter-widgets/controls",
     "model_module_version": "1.5.0",
     "model_name": "HTMLModel",
     "state": {
      "_dom_classes": [],
      "_model_module": "@jupyter-widgets/controls",
      "_model_module_version": "1.5.0",
      "_model_name": "HTMLModel",
      "_view_count": null,
      "_view_module": "@jupyter-widgets/controls",
      "_view_module_version": "1.5.0",
      "_view_name": "HTMLView",
      "description": "",
      "description_tooltip": null,
      "layout": "IPY_MODEL_ea31252e770446458df4fc99b92b0a51",
      "placeholder": "​",
      "style": "IPY_MODEL_18f8392f21c541559db947d723ce6998",
      "value": " 48.0/48.0 [00:00&lt;00:00, 3.15kB/s]"
     }
    },
    "6a7950fc6b8f4eb0a6d5ba6a8cd24ef2": {
     "model_module": "@jupyter-widgets/controls",
     "model_module_version": "1.5.0",
     "model_name": "DescriptionStyleModel",
     "state": {
      "_model_module": "@jupyter-widgets/controls",
      "_model_module_version": "1.5.0",
      "_model_name": "DescriptionStyleModel",
      "_view_count": null,
      "_view_module": "@jupyter-widgets/base",
      "_view_module_version": "1.2.0",
      "_view_name": "StyleView",
      "description_width": ""
     }
    },
    "72b1c590337a4ad29e27b6208deed771": {
     "model_module": "@jupyter-widgets/controls",
     "model_module_version": "1.5.0",
     "model_name": "HTMLModel",
     "state": {
      "_dom_classes": [],
      "_model_module": "@jupyter-widgets/controls",
      "_model_module_version": "1.5.0",
      "_model_name": "HTMLModel",
      "_view_count": null,
      "_view_module": "@jupyter-widgets/controls",
      "_view_module_version": "1.5.0",
      "_view_name": "HTMLView",
      "description": "",
      "description_tooltip": null,
      "layout": "IPY_MODEL_17992b68e37146308913280bbe2caff3",
      "placeholder": "​",
      "style": "IPY_MODEL_bb3a7a72c8e14ae28f09cc0f572ec03e",
      "value": "vocab.txt: 100%"
     }
    },
    "7913169fcdf346be9ce84e01120bf3bd": {
     "model_module": "@jupyter-widgets/base",
     "model_module_version": "1.2.0",
     "model_name": "LayoutModel",
     "state": {
      "_model_module": "@jupyter-widgets/base",
      "_model_module_version": "1.2.0",
      "_model_name": "LayoutModel",
      "_view_count": null,
      "_view_module": "@jupyter-widgets/base",
      "_view_module_version": "1.2.0",
      "_view_name": "LayoutView",
      "align_content": null,
      "align_items": null,
      "align_self": null,
      "border": null,
      "bottom": null,
      "display": null,
      "flex": null,
      "flex_flow": null,
      "grid_area": null,
      "grid_auto_columns": null,
      "grid_auto_flow": null,
      "grid_auto_rows": null,
      "grid_column": null,
      "grid_gap": null,
      "grid_row": null,
      "grid_template_areas": null,
      "grid_template_columns": null,
      "grid_template_rows": null,
      "height": null,
      "justify_content": null,
      "justify_items": null,
      "left": null,
      "margin": null,
      "max_height": null,
      "max_width": null,
      "min_height": null,
      "min_width": null,
      "object_fit": null,
      "object_position": null,
      "order": null,
      "overflow": null,
      "overflow_x": null,
      "overflow_y": null,
      "padding": null,
      "right": null,
      "top": null,
      "visibility": null,
      "width": null
     }
    },
    "7fb8da2be6c04c42ae80d62193d4c227": {
     "model_module": "@jupyter-widgets/base",
     "model_module_version": "1.2.0",
     "model_name": "LayoutModel",
     "state": {
      "_model_module": "@jupyter-widgets/base",
      "_model_module_version": "1.2.0",
      "_model_name": "LayoutModel",
      "_view_count": null,
      "_view_module": "@jupyter-widgets/base",
      "_view_module_version": "1.2.0",
      "_view_name": "LayoutView",
      "align_content": null,
      "align_items": null,
      "align_self": null,
      "border": null,
      "bottom": null,
      "display": null,
      "flex": null,
      "flex_flow": null,
      "grid_area": null,
      "grid_auto_columns": null,
      "grid_auto_flow": null,
      "grid_auto_rows": null,
      "grid_column": null,
      "grid_gap": null,
      "grid_row": null,
      "grid_template_areas": null,
      "grid_template_columns": null,
      "grid_template_rows": null,
      "height": null,
      "justify_content": null,
      "justify_items": null,
      "left": null,
      "margin": null,
      "max_height": null,
      "max_width": null,
      "min_height": null,
      "min_width": null,
      "object_fit": null,
      "object_position": null,
      "order": null,
      "overflow": null,
      "overflow_x": null,
      "overflow_y": null,
      "padding": null,
      "right": null,
      "top": null,
      "visibility": null,
      "width": null
     }
    },
    "81442b54ead3410180dc4175b72d6a6d": {
     "model_module": "@jupyter-widgets/base",
     "model_module_version": "1.2.0",
     "model_name": "LayoutModel",
     "state": {
      "_model_module": "@jupyter-widgets/base",
      "_model_module_version": "1.2.0",
      "_model_name": "LayoutModel",
      "_view_count": null,
      "_view_module": "@jupyter-widgets/base",
      "_view_module_version": "1.2.0",
      "_view_name": "LayoutView",
      "align_content": null,
      "align_items": null,
      "align_self": null,
      "border": null,
      "bottom": null,
      "display": null,
      "flex": null,
      "flex_flow": null,
      "grid_area": null,
      "grid_auto_columns": null,
      "grid_auto_flow": null,
      "grid_auto_rows": null,
      "grid_column": null,
      "grid_gap": null,
      "grid_row": null,
      "grid_template_areas": null,
      "grid_template_columns": null,
      "grid_template_rows": null,
      "height": null,
      "justify_content": null,
      "justify_items": null,
      "left": null,
      "margin": null,
      "max_height": null,
      "max_width": null,
      "min_height": null,
      "min_width": null,
      "object_fit": null,
      "object_position": null,
      "order": null,
      "overflow": null,
      "overflow_x": null,
      "overflow_y": null,
      "padding": null,
      "right": null,
      "top": null,
      "visibility": null,
      "width": null
     }
    },
    "82aac8d663224170a2fed2209210724a": {
     "model_module": "@jupyter-widgets/base",
     "model_module_version": "1.2.0",
     "model_name": "LayoutModel",
     "state": {
      "_model_module": "@jupyter-widgets/base",
      "_model_module_version": "1.2.0",
      "_model_name": "LayoutModel",
      "_view_count": null,
      "_view_module": "@jupyter-widgets/base",
      "_view_module_version": "1.2.0",
      "_view_name": "LayoutView",
      "align_content": null,
      "align_items": null,
      "align_self": null,
      "border": null,
      "bottom": null,
      "display": null,
      "flex": null,
      "flex_flow": null,
      "grid_area": null,
      "grid_auto_columns": null,
      "grid_auto_flow": null,
      "grid_auto_rows": null,
      "grid_column": null,
      "grid_gap": null,
      "grid_row": null,
      "grid_template_areas": null,
      "grid_template_columns": null,
      "grid_template_rows": null,
      "height": null,
      "justify_content": null,
      "justify_items": null,
      "left": null,
      "margin": null,
      "max_height": null,
      "max_width": null,
      "min_height": null,
      "min_width": null,
      "object_fit": null,
      "object_position": null,
      "order": null,
      "overflow": null,
      "overflow_x": null,
      "overflow_y": null,
      "padding": null,
      "right": null,
      "top": null,
      "visibility": null,
      "width": null
     }
    },
    "84b46697442e4879a16587ca86bb7ee4": {
     "model_module": "@jupyter-widgets/controls",
     "model_module_version": "1.5.0",
     "model_name": "DescriptionStyleModel",
     "state": {
      "_model_module": "@jupyter-widgets/controls",
      "_model_module_version": "1.5.0",
      "_model_name": "DescriptionStyleModel",
      "_view_count": null,
      "_view_module": "@jupyter-widgets/base",
      "_view_module_version": "1.2.0",
      "_view_name": "StyleView",
      "description_width": ""
     }
    },
    "8b6e855a3c9e4f7db224b567b8bdace7": {
     "model_module": "@jupyter-widgets/controls",
     "model_module_version": "1.5.0",
     "model_name": "DescriptionStyleModel",
     "state": {
      "_model_module": "@jupyter-widgets/controls",
      "_model_module_version": "1.5.0",
      "_model_name": "DescriptionStyleModel",
      "_view_count": null,
      "_view_module": "@jupyter-widgets/base",
      "_view_module_version": "1.2.0",
      "_view_name": "StyleView",
      "description_width": ""
     }
    },
    "9abf8eaa43e84ecbbe8d08900a221b9d": {
     "model_module": "@jupyter-widgets/controls",
     "model_module_version": "1.5.0",
     "model_name": "FloatProgressModel",
     "state": {
      "_dom_classes": [],
      "_model_module": "@jupyter-widgets/controls",
      "_model_module_version": "1.5.0",
      "_model_name": "FloatProgressModel",
      "_view_count": null,
      "_view_module": "@jupyter-widgets/controls",
      "_view_module_version": "1.5.0",
      "_view_name": "ProgressView",
      "bar_style": "success",
      "description": "",
      "description_tooltip": null,
      "layout": "IPY_MODEL_119b30a59ce14e6690d171d02e0870f0",
      "max": 466062,
      "min": 0,
      "orientation": "horizontal",
      "style": "IPY_MODEL_d51dcf8fb4964098b9f9bde40fe0f791",
      "value": 466062
     }
    },
    "9ba4d8f258f0496faf96d54cca0f781a": {
     "model_module": "@jupyter-widgets/controls",
     "model_module_version": "1.5.0",
     "model_name": "DescriptionStyleModel",
     "state": {
      "_model_module": "@jupyter-widgets/controls",
      "_model_module_version": "1.5.0",
      "_model_name": "DescriptionStyleModel",
      "_view_count": null,
      "_view_module": "@jupyter-widgets/base",
      "_view_module_version": "1.2.0",
      "_view_name": "StyleView",
      "description_width": ""
     }
    },
    "a6451c60777e463581ce392e5fe20903": {
     "model_module": "@jupyter-widgets/controls",
     "model_module_version": "1.5.0",
     "model_name": "HBoxModel",
     "state": {
      "_dom_classes": [],
      "_model_module": "@jupyter-widgets/controls",
      "_model_module_version": "1.5.0",
      "_model_name": "HBoxModel",
      "_view_count": null,
      "_view_module": "@jupyter-widgets/controls",
      "_view_module_version": "1.5.0",
      "_view_name": "HBoxView",
      "box_style": "",
      "children": [
       "IPY_MODEL_4db717de20c943cb9f86240717e0ee48",
       "IPY_MODEL_9abf8eaa43e84ecbbe8d08900a221b9d",
       "IPY_MODEL_fe75615fe59542c794a5b5a895e9a1ee"
      ],
      "layout": "IPY_MODEL_cd18b98ca78f4a64a0aac3f008599d9f"
     }
    },
    "ad505838fcf649e3b47a03813f919214": {
     "model_module": "@jupyter-widgets/controls",
     "model_module_version": "1.5.0",
     "model_name": "HTMLModel",
     "state": {
      "_dom_classes": [],
      "_model_module": "@jupyter-widgets/controls",
      "_model_module_version": "1.5.0",
      "_model_name": "HTMLModel",
      "_view_count": null,
      "_view_module": "@jupyter-widgets/controls",
      "_view_module_version": "1.5.0",
      "_view_name": "HTMLView",
      "description": "",
      "description_tooltip": null,
      "layout": "IPY_MODEL_c8cc09dcd4484e17a54324b802f43392",
      "placeholder": "​",
      "style": "IPY_MODEL_84b46697442e4879a16587ca86bb7ee4",
      "value": " 440M/440M [00:05&lt;00:00, 109MB/s]"
     }
    },
    "ad8826a809c844eb86c43f7965e9294c": {
     "model_module": "@jupyter-widgets/base",
     "model_module_version": "1.2.0",
     "model_name": "LayoutModel",
     "state": {
      "_model_module": "@jupyter-widgets/base",
      "_model_module_version": "1.2.0",
      "_model_name": "LayoutModel",
      "_view_count": null,
      "_view_module": "@jupyter-widgets/base",
      "_view_module_version": "1.2.0",
      "_view_name": "LayoutView",
      "align_content": null,
      "align_items": null,
      "align_self": null,
      "border": null,
      "bottom": null,
      "display": null,
      "flex": null,
      "flex_flow": null,
      "grid_area": null,
      "grid_auto_columns": null,
      "grid_auto_flow": null,
      "grid_auto_rows": null,
      "grid_column": null,
      "grid_gap": null,
      "grid_row": null,
      "grid_template_areas": null,
      "grid_template_columns": null,
      "grid_template_rows": null,
      "height": null,
      "justify_content": null,
      "justify_items": null,
      "left": null,
      "margin": null,
      "max_height": null,
      "max_width": null,
      "min_height": null,
      "min_width": null,
      "object_fit": null,
      "object_position": null,
      "order": null,
      "overflow": null,
      "overflow_x": null,
      "overflow_y": null,
      "padding": null,
      "right": null,
      "top": null,
      "visibility": null,
      "width": null
     }
    },
    "ada0bf9dca28482e8075ad70c6548355": {
     "model_module": "@jupyter-widgets/base",
     "model_module_version": "1.2.0",
     "model_name": "LayoutModel",
     "state": {
      "_model_module": "@jupyter-widgets/base",
      "_model_module_version": "1.2.0",
      "_model_name": "LayoutModel",
      "_view_count": null,
      "_view_module": "@jupyter-widgets/base",
      "_view_module_version": "1.2.0",
      "_view_name": "LayoutView",
      "align_content": null,
      "align_items": null,
      "align_self": null,
      "border": null,
      "bottom": null,
      "display": null,
      "flex": null,
      "flex_flow": null,
      "grid_area": null,
      "grid_auto_columns": null,
      "grid_auto_flow": null,
      "grid_auto_rows": null,
      "grid_column": null,
      "grid_gap": null,
      "grid_row": null,
      "grid_template_areas": null,
      "grid_template_columns": null,
      "grid_template_rows": null,
      "height": null,
      "justify_content": null,
      "justify_items": null,
      "left": null,
      "margin": null,
      "max_height": null,
      "max_width": null,
      "min_height": null,
      "min_width": null,
      "object_fit": null,
      "object_position": null,
      "order": null,
      "overflow": null,
      "overflow_x": null,
      "overflow_y": null,
      "padding": null,
      "right": null,
      "top": null,
      "visibility": null,
      "width": null
     }
    },
    "b4f047eab0e44be8b57c401817bc03c3": {
     "model_module": "@jupyter-widgets/base",
     "model_module_version": "1.2.0",
     "model_name": "LayoutModel",
     "state": {
      "_model_module": "@jupyter-widgets/base",
      "_model_module_version": "1.2.0",
      "_model_name": "LayoutModel",
      "_view_count": null,
      "_view_module": "@jupyter-widgets/base",
      "_view_module_version": "1.2.0",
      "_view_name": "LayoutView",
      "align_content": null,
      "align_items": null,
      "align_self": null,
      "border": null,
      "bottom": null,
      "display": null,
      "flex": null,
      "flex_flow": null,
      "grid_area": null,
      "grid_auto_columns": null,
      "grid_auto_flow": null,
      "grid_auto_rows": null,
      "grid_column": null,
      "grid_gap": null,
      "grid_row": null,
      "grid_template_areas": null,
      "grid_template_columns": null,
      "grid_template_rows": null,
      "height": null,
      "justify_content": null,
      "justify_items": null,
      "left": null,
      "margin": null,
      "max_height": null,
      "max_width": null,
      "min_height": null,
      "min_width": null,
      "object_fit": null,
      "object_position": null,
      "order": null,
      "overflow": null,
      "overflow_x": null,
      "overflow_y": null,
      "padding": null,
      "right": null,
      "top": null,
      "visibility": null,
      "width": null
     }
    },
    "b88eb9853da14ff786ba2bc3f350c117": {
     "model_module": "@jupyter-widgets/controls",
     "model_module_version": "1.5.0",
     "model_name": "ProgressStyleModel",
     "state": {
      "_model_module": "@jupyter-widgets/controls",
      "_model_module_version": "1.5.0",
      "_model_name": "ProgressStyleModel",
      "_view_count": null,
      "_view_module": "@jupyter-widgets/base",
      "_view_module_version": "1.2.0",
      "_view_name": "StyleView",
      "bar_color": null,
      "description_width": ""
     }
    },
    "b9e427655af4492bb0b17545597deecd": {
     "model_module": "@jupyter-widgets/controls",
     "model_module_version": "1.5.0",
     "model_name": "DescriptionStyleModel",
     "state": {
      "_model_module": "@jupyter-widgets/controls",
      "_model_module_version": "1.5.0",
      "_model_name": "DescriptionStyleModel",
      "_view_count": null,
      "_view_module": "@jupyter-widgets/base",
      "_view_module_version": "1.2.0",
      "_view_name": "StyleView",
      "description_width": ""
     }
    },
    "bb3a7a72c8e14ae28f09cc0f572ec03e": {
     "model_module": "@jupyter-widgets/controls",
     "model_module_version": "1.5.0",
     "model_name": "DescriptionStyleModel",
     "state": {
      "_model_module": "@jupyter-widgets/controls",
      "_model_module_version": "1.5.0",
      "_model_name": "DescriptionStyleModel",
      "_view_count": null,
      "_view_module": "@jupyter-widgets/base",
      "_view_module_version": "1.2.0",
      "_view_name": "StyleView",
      "description_width": ""
     }
    },
    "bffbdaa5a9034346b1984a84beacaefa": {
     "model_module": "@jupyter-widgets/controls",
     "model_module_version": "1.5.0",
     "model_name": "ProgressStyleModel",
     "state": {
      "_model_module": "@jupyter-widgets/controls",
      "_model_module_version": "1.5.0",
      "_model_name": "ProgressStyleModel",
      "_view_count": null,
      "_view_module": "@jupyter-widgets/base",
      "_view_module_version": "1.2.0",
      "_view_name": "StyleView",
      "bar_color": null,
      "description_width": ""
     }
    },
    "c8cc09dcd4484e17a54324b802f43392": {
     "model_module": "@jupyter-widgets/base",
     "model_module_version": "1.2.0",
     "model_name": "LayoutModel",
     "state": {
      "_model_module": "@jupyter-widgets/base",
      "_model_module_version": "1.2.0",
      "_model_name": "LayoutModel",
      "_view_count": null,
      "_view_module": "@jupyter-widgets/base",
      "_view_module_version": "1.2.0",
      "_view_name": "LayoutView",
      "align_content": null,
      "align_items": null,
      "align_self": null,
      "border": null,
      "bottom": null,
      "display": null,
      "flex": null,
      "flex_flow": null,
      "grid_area": null,
      "grid_auto_columns": null,
      "grid_auto_flow": null,
      "grid_auto_rows": null,
      "grid_column": null,
      "grid_gap": null,
      "grid_row": null,
      "grid_template_areas": null,
      "grid_template_columns": null,
      "grid_template_rows": null,
      "height": null,
      "justify_content": null,
      "justify_items": null,
      "left": null,
      "margin": null,
      "max_height": null,
      "max_width": null,
      "min_height": null,
      "min_width": null,
      "object_fit": null,
      "object_position": null,
      "order": null,
      "overflow": null,
      "overflow_x": null,
      "overflow_y": null,
      "padding": null,
      "right": null,
      "top": null,
      "visibility": null,
      "width": null
     }
    },
    "cd18b98ca78f4a64a0aac3f008599d9f": {
     "model_module": "@jupyter-widgets/base",
     "model_module_version": "1.2.0",
     "model_name": "LayoutModel",
     "state": {
      "_model_module": "@jupyter-widgets/base",
      "_model_module_version": "1.2.0",
      "_model_name": "LayoutModel",
      "_view_count": null,
      "_view_module": "@jupyter-widgets/base",
      "_view_module_version": "1.2.0",
      "_view_name": "LayoutView",
      "align_content": null,
      "align_items": null,
      "align_self": null,
      "border": null,
      "bottom": null,
      "display": null,
      "flex": null,
      "flex_flow": null,
      "grid_area": null,
      "grid_auto_columns": null,
      "grid_auto_flow": null,
      "grid_auto_rows": null,
      "grid_column": null,
      "grid_gap": null,
      "grid_row": null,
      "grid_template_areas": null,
      "grid_template_columns": null,
      "grid_template_rows": null,
      "height": null,
      "justify_content": null,
      "justify_items": null,
      "left": null,
      "margin": null,
      "max_height": null,
      "max_width": null,
      "min_height": null,
      "min_width": null,
      "object_fit": null,
      "object_position": null,
      "order": null,
      "overflow": null,
      "overflow_x": null,
      "overflow_y": null,
      "padding": null,
      "right": null,
      "top": null,
      "visibility": null,
      "width": null
     }
    },
    "cdc41ca2ff8f415caeb9fb94046d8095": {
     "model_module": "@jupyter-widgets/base",
     "model_module_version": "1.2.0",
     "model_name": "LayoutModel",
     "state": {
      "_model_module": "@jupyter-widgets/base",
      "_model_module_version": "1.2.0",
      "_model_name": "LayoutModel",
      "_view_count": null,
      "_view_module": "@jupyter-widgets/base",
      "_view_module_version": "1.2.0",
      "_view_name": "LayoutView",
      "align_content": null,
      "align_items": null,
      "align_self": null,
      "border": null,
      "bottom": null,
      "display": null,
      "flex": null,
      "flex_flow": null,
      "grid_area": null,
      "grid_auto_columns": null,
      "grid_auto_flow": null,
      "grid_auto_rows": null,
      "grid_column": null,
      "grid_gap": null,
      "grid_row": null,
      "grid_template_areas": null,
      "grid_template_columns": null,
      "grid_template_rows": null,
      "height": null,
      "justify_content": null,
      "justify_items": null,
      "left": null,
      "margin": null,
      "max_height": null,
      "max_width": null,
      "min_height": null,
      "min_width": null,
      "object_fit": null,
      "object_position": null,
      "order": null,
      "overflow": null,
      "overflow_x": null,
      "overflow_y": null,
      "padding": null,
      "right": null,
      "top": null,
      "visibility": null,
      "width": null
     }
    },
    "d3570968d6c641e4acd95185250c272c": {
     "model_module": "@jupyter-widgets/base",
     "model_module_version": "1.2.0",
     "model_name": "LayoutModel",
     "state": {
      "_model_module": "@jupyter-widgets/base",
      "_model_module_version": "1.2.0",
      "_model_name": "LayoutModel",
      "_view_count": null,
      "_view_module": "@jupyter-widgets/base",
      "_view_module_version": "1.2.0",
      "_view_name": "LayoutView",
      "align_content": null,
      "align_items": null,
      "align_self": null,
      "border": null,
      "bottom": null,
      "display": null,
      "flex": null,
      "flex_flow": null,
      "grid_area": null,
      "grid_auto_columns": null,
      "grid_auto_flow": null,
      "grid_auto_rows": null,
      "grid_column": null,
      "grid_gap": null,
      "grid_row": null,
      "grid_template_areas": null,
      "grid_template_columns": null,
      "grid_template_rows": null,
      "height": null,
      "justify_content": null,
      "justify_items": null,
      "left": null,
      "margin": null,
      "max_height": null,
      "max_width": null,
      "min_height": null,
      "min_width": null,
      "object_fit": null,
      "object_position": null,
      "order": null,
      "overflow": null,
      "overflow_x": null,
      "overflow_y": null,
      "padding": null,
      "right": null,
      "top": null,
      "visibility": null,
      "width": null
     }
    },
    "d51dcf8fb4964098b9f9bde40fe0f791": {
     "model_module": "@jupyter-widgets/controls",
     "model_module_version": "1.5.0",
     "model_name": "ProgressStyleModel",
     "state": {
      "_model_module": "@jupyter-widgets/controls",
      "_model_module_version": "1.5.0",
      "_model_name": "ProgressStyleModel",
      "_view_count": null,
      "_view_module": "@jupyter-widgets/base",
      "_view_module_version": "1.2.0",
      "_view_name": "StyleView",
      "bar_color": null,
      "description_width": ""
     }
    },
    "d93cadef4e0d49f08218af49d8e62604": {
     "model_module": "@jupyter-widgets/controls",
     "model_module_version": "1.5.0",
     "model_name": "HTMLModel",
     "state": {
      "_dom_classes": [],
      "_model_module": "@jupyter-widgets/controls",
      "_model_module_version": "1.5.0",
      "_model_name": "HTMLModel",
      "_view_count": null,
      "_view_module": "@jupyter-widgets/controls",
      "_view_module_version": "1.5.0",
      "_view_name": "HTMLView",
      "description": "",
      "description_tooltip": null,
      "layout": "IPY_MODEL_ada0bf9dca28482e8075ad70c6548355",
      "placeholder": "​",
      "style": "IPY_MODEL_9ba4d8f258f0496faf96d54cca0f781a",
      "value": "config.json: 100%"
     }
    },
    "e1dc74c6912849cfa6129a105b80f0d3": {
     "model_module": "@jupyter-widgets/controls",
     "model_module_version": "1.5.0",
     "model_name": "HTMLModel",
     "state": {
      "_dom_classes": [],
      "_model_module": "@jupyter-widgets/controls",
      "_model_module_version": "1.5.0",
      "_model_name": "HTMLModel",
      "_view_count": null,
      "_view_module": "@jupyter-widgets/controls",
      "_view_module_version": "1.5.0",
      "_view_name": "HTMLView",
      "description": "",
      "description_tooltip": null,
      "layout": "IPY_MODEL_81442b54ead3410180dc4175b72d6a6d",
      "placeholder": "​",
      "style": "IPY_MODEL_b9e427655af4492bb0b17545597deecd",
      "value": " 232k/232k [00:00&lt;00:00, 7.72MB/s]"
     }
    },
    "e890c47b404d4eb990ad36f3c5615af2": {
     "model_module": "@jupyter-widgets/controls",
     "model_module_version": "1.5.0",
     "model_name": "HTMLModel",
     "state": {
      "_dom_classes": [],
      "_model_module": "@jupyter-widgets/controls",
      "_model_module_version": "1.5.0",
      "_model_name": "HTMLModel",
      "_view_count": null,
      "_view_module": "@jupyter-widgets/controls",
      "_view_module_version": "1.5.0",
      "_view_name": "HTMLView",
      "description": "",
      "description_tooltip": null,
      "layout": "IPY_MODEL_7fb8da2be6c04c42ae80d62193d4c227",
      "placeholder": "​",
      "style": "IPY_MODEL_0564136c11ae446c9ae64e6f104e95a4",
      "value": "model.safetensors: 100%"
     }
    },
    "e9289c3bb65c4cc1a9f6840d3d2cbc17": {
     "model_module": "@jupyter-widgets/base",
     "model_module_version": "1.2.0",
     "model_name": "LayoutModel",
     "state": {
      "_model_module": "@jupyter-widgets/base",
      "_model_module_version": "1.2.0",
      "_model_name": "LayoutModel",
      "_view_count": null,
      "_view_module": "@jupyter-widgets/base",
      "_view_module_version": "1.2.0",
      "_view_name": "LayoutView",
      "align_content": null,
      "align_items": null,
      "align_self": null,
      "border": null,
      "bottom": null,
      "display": null,
      "flex": null,
      "flex_flow": null,
      "grid_area": null,
      "grid_auto_columns": null,
      "grid_auto_flow": null,
      "grid_auto_rows": null,
      "grid_column": null,
      "grid_gap": null,
      "grid_row": null,
      "grid_template_areas": null,
      "grid_template_columns": null,
      "grid_template_rows": null,
      "height": null,
      "justify_content": null,
      "justify_items": null,
      "left": null,
      "margin": null,
      "max_height": null,
      "max_width": null,
      "min_height": null,
      "min_width": null,
      "object_fit": null,
      "object_position": null,
      "order": null,
      "overflow": null,
      "overflow_x": null,
      "overflow_y": null,
      "padding": null,
      "right": null,
      "top": null,
      "visibility": null,
      "width": null
     }
    },
    "ea31252e770446458df4fc99b92b0a51": {
     "model_module": "@jupyter-widgets/base",
     "model_module_version": "1.2.0",
     "model_name": "LayoutModel",
     "state": {
      "_model_module": "@jupyter-widgets/base",
      "_model_module_version": "1.2.0",
      "_model_name": "LayoutModel",
      "_view_count": null,
      "_view_module": "@jupyter-widgets/base",
      "_view_module_version": "1.2.0",
      "_view_name": "LayoutView",
      "align_content": null,
      "align_items": null,
      "align_self": null,
      "border": null,
      "bottom": null,
      "display": null,
      "flex": null,
      "flex_flow": null,
      "grid_area": null,
      "grid_auto_columns": null,
      "grid_auto_flow": null,
      "grid_auto_rows": null,
      "grid_column": null,
      "grid_gap": null,
      "grid_row": null,
      "grid_template_areas": null,
      "grid_template_columns": null,
      "grid_template_rows": null,
      "height": null,
      "justify_content": null,
      "justify_items": null,
      "left": null,
      "margin": null,
      "max_height": null,
      "max_width": null,
      "min_height": null,
      "min_width": null,
      "object_fit": null,
      "object_position": null,
      "order": null,
      "overflow": null,
      "overflow_x": null,
      "overflow_y": null,
      "padding": null,
      "right": null,
      "top": null,
      "visibility": null,
      "width": null
     }
    },
    "eff906fea2f14d1aa0c351c2a576bab2": {
     "model_module": "@jupyter-widgets/base",
     "model_module_version": "1.2.0",
     "model_name": "LayoutModel",
     "state": {
      "_model_module": "@jupyter-widgets/base",
      "_model_module_version": "1.2.0",
      "_model_name": "LayoutModel",
      "_view_count": null,
      "_view_module": "@jupyter-widgets/base",
      "_view_module_version": "1.2.0",
      "_view_name": "LayoutView",
      "align_content": null,
      "align_items": null,
      "align_self": null,
      "border": null,
      "bottom": null,
      "display": null,
      "flex": null,
      "flex_flow": null,
      "grid_area": null,
      "grid_auto_columns": null,
      "grid_auto_flow": null,
      "grid_auto_rows": null,
      "grid_column": null,
      "grid_gap": null,
      "grid_row": null,
      "grid_template_areas": null,
      "grid_template_columns": null,
      "grid_template_rows": null,
      "height": null,
      "justify_content": null,
      "justify_items": null,
      "left": null,
      "margin": null,
      "max_height": null,
      "max_width": null,
      "min_height": null,
      "min_width": null,
      "object_fit": null,
      "object_position": null,
      "order": null,
      "overflow": null,
      "overflow_x": null,
      "overflow_y": null,
      "padding": null,
      "right": null,
      "top": null,
      "visibility": null,
      "width": null
     }
    },
    "f5522382db1244e2832ab9233286c27f": {
     "model_module": "@jupyter-widgets/controls",
     "model_module_version": "1.5.0",
     "model_name": "HBoxModel",
     "state": {
      "_dom_classes": [],
      "_model_module": "@jupyter-widgets/controls",
      "_model_module_version": "1.5.0",
      "_model_name": "HBoxModel",
      "_view_count": null,
      "_view_module": "@jupyter-widgets/controls",
      "_view_module_version": "1.5.0",
      "_view_name": "HBoxView",
      "box_style": "",
      "children": [
       "IPY_MODEL_d93cadef4e0d49f08218af49d8e62604",
       "IPY_MODEL_13ec43514d024b9e9f1b401ab4052bf7",
       "IPY_MODEL_3f10615ce46e4c50a80038640eb3766b"
      ],
      "layout": "IPY_MODEL_3cf967d1bee84e85af2241deb53bdbfd"
     }
    },
    "f63fc30f75804c6ea081cf1760e6b4ee": {
     "model_module": "@jupyter-widgets/controls",
     "model_module_version": "1.5.0",
     "model_name": "DescriptionStyleModel",
     "state": {
      "_model_module": "@jupyter-widgets/controls",
      "_model_module_version": "1.5.0",
      "_model_name": "DescriptionStyleModel",
      "_view_count": null,
      "_view_module": "@jupyter-widgets/base",
      "_view_module_version": "1.2.0",
      "_view_name": "StyleView",
      "description_width": ""
     }
    },
    "fe75615fe59542c794a5b5a895e9a1ee": {
     "model_module": "@jupyter-widgets/controls",
     "model_module_version": "1.5.0",
     "model_name": "HTMLModel",
     "state": {
      "_dom_classes": [],
      "_model_module": "@jupyter-widgets/controls",
      "_model_module_version": "1.5.0",
      "_model_name": "HTMLModel",
      "_view_count": null,
      "_view_module": "@jupyter-widgets/controls",
      "_view_module_version": "1.5.0",
      "_view_name": "HTMLView",
      "description": "",
      "description_tooltip": null,
      "layout": "IPY_MODEL_82aac8d663224170a2fed2209210724a",
      "placeholder": "​",
      "style": "IPY_MODEL_f63fc30f75804c6ea081cf1760e6b4ee",
      "value": " 466k/466k [00:00&lt;00:00, 32.8MB/s]"
     }
    }
   }
  }
 },
 "nbformat": 4,
 "nbformat_minor": 4
}
