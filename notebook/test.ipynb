{
 "cells": [
  {
   "cell_type": "code",
   "execution_count": 1,
   "id": "a19c4623",
   "metadata": {},
   "outputs": [],
   "source": [
    "import pandas as pd\n",
    "import numpy as np\n",
    "import matplotlib.pyplot as plt\n",
    "import seaborn as sns"
   ]
  },
  {
   "cell_type": "code",
   "execution_count": 2,
   "id": "a769e031",
   "metadata": {},
   "outputs": [],
   "source": [
    "FAKE_PATH = 'D:\\\\Workspace\\\\NLP\\\\At school\\\\Final project\\\\datasets\\\\DataSet_Misinfo_FAKE.csv'\n",
    "TRUE_PATH = 'D:\\\\Workspace\\\\NLP\\\\At school\\\\Final project\\\\datasets\\\\DataSet_Misinfo_TRUE.csv'\n",
    "\n",
    "df_fake = pd.read_csv(FAKE_PATH)\n",
    "df_true = pd.read_csv(TRUE_PATH)"
   ]
  },
  {
   "cell_type": "code",
   "execution_count": 3,
   "id": "2c902315",
   "metadata": {},
   "outputs": [
    {
     "data": {
      "text/plain": [
       "(   Unnamed: 0                                               text\n",
       " 0           0  Donald Trump just couldn t wish all Americans ...\n",
       " 1           1  House Intelligence Committee Chairman Devin Nu...\n",
       " 2           2  On Friday, it was revealed that former Milwauk...\n",
       " 3           3  On Christmas day, Donald Trump announced that ...\n",
       " 4           4  Pope Francis used his annual Christmas Day mes...,\n",
       "    Unnamed: 0                                               text\n",
       " 0           0  The head of a conservative Republican faction ...\n",
       " 1           1  Transgender people will be allowed for the fir...\n",
       " 2           2  The special counsel investigation of links bet...\n",
       " 3           3  Trump campaign adviser George Papadopoulos tol...\n",
       " 4           4  President Donald Trump called on the U.S. Post...)"
      ]
     },
     "execution_count": 3,
     "metadata": {},
     "output_type": "execute_result"
    }
   ],
   "source": [
    "df_fake.head(), df_true.head()"
   ]
  },
  {
   "cell_type": "code",
   "execution_count": 4,
   "id": "d5aa5a5d",
   "metadata": {},
   "outputs": [],
   "source": [
    "df_fake.drop(\"Unnamed: 0\", axis=1, inplace=True)\n",
    "df_true.drop(\"Unnamed: 0\", axis=1, inplace=True)"
   ]
  },
  {
   "cell_type": "code",
   "execution_count": 5,
   "id": "5527db9d",
   "metadata": {},
   "outputs": [],
   "source": [
    "df_fake['label'] = 0\n",
    "df_true['label'] = 1\n",
    "\n",
    "df = pd.concat([df_fake, df_true], ignore_index=True)"
   ]
  },
  {
   "cell_type": "code",
   "execution_count": 6,
   "id": "52bece47",
   "metadata": {},
   "outputs": [],
   "source": [
    "df = df.dropna()"
   ]
  },
  {
   "cell_type": "code",
   "execution_count": 7,
   "id": "11af2146",
   "metadata": {},
   "outputs": [
    {
     "data": {
      "text/plain": [
       "(78588, 2)"
      ]
     },
     "execution_count": 7,
     "metadata": {},
     "output_type": "execute_result"
    }
   ],
   "source": [
    "df.shape"
   ]
  },
  {
   "cell_type": "code",
   "execution_count": 8,
   "id": "a47d5efb",
   "metadata": {},
   "outputs": [
    {
     "name": "stdout",
     "output_type": "stream",
     "text": [
      "The shape of data: (78588, 3)\n",
      "The shape of data after dropping duplicates: (68600, 2)\n"
     ]
    }
   ],
   "source": [
    "df['clean_text'] = df['text'].str.lower().str.strip()\n",
    "\n",
    "duplicated_texts = df[df.duplicated(subset='clean_text', keep=False)]\n",
    "\n",
    "print(\"The shape of data:\", df.shape)\n",
    "\n",
    "# Remove duplicated texts \n",
    "df = df.drop_duplicates(subset = 'clean_text', keep = 'first').drop(columns = 'clean_text')\n",
    "\n",
    "print(\"The shape of data after dropping duplicates:\", df.shape)"
   ]
  },
  {
   "cell_type": "code",
   "execution_count": 9,
   "id": "6c80c985",
   "metadata": {},
   "outputs": [
    {
     "name": "stderr",
     "output_type": "stream",
     "text": [
      "[nltk_data] Downloading package punkt_tab to\n",
      "[nltk_data]     C:\\Users\\ngmin\\AppData\\Roaming\\nltk_data...\n",
      "[nltk_data]   Package punkt_tab is already up-to-date!\n",
      "[nltk_data] Downloading package stopwords to\n",
      "[nltk_data]     C:\\Users\\ngmin\\AppData\\Roaming\\nltk_data...\n",
      "[nltk_data]   Package stopwords is already up-to-date!\n",
      "[nltk_data] Downloading package wordnet to\n",
      "[nltk_data]     C:\\Users\\ngmin\\AppData\\Roaming\\nltk_data...\n",
      "[nltk_data]   Package wordnet is already up-to-date!\n"
     ]
    },
    {
     "data": {
      "text/plain": [
       "True"
      ]
     },
     "execution_count": 9,
     "metadata": {},
     "output_type": "execute_result"
    }
   ],
   "source": [
    "import re\n",
    "import nltk\n",
    "from nltk.corpus import stopwords\n",
    "from unidecode import unidecode\n",
    "from nltk.stem import WordNetLemmatizer\n",
    "from nltk.tokenize import word_tokenize\n",
    "\n",
    "nltk.download('punkt_tab')\n",
    "nltk.download('stopwords')\n",
    "nltk.download('wordnet')"
   ]
  },
  {
   "cell_type": "code",
   "execution_count": 10,
   "id": "62bc4e1d",
   "metadata": {},
   "outputs": [],
   "source": [
    "stop_words = set(stopwords.words('english'))\n",
    "lemmatizer = WordNetLemmatizer()\n",
    "\n",
    "def preprocess_text(text):\n",
    "    text = re.sub(r\"http\\S+|www\\S+|<.*?>\", \"\", text)  # Remove URLs/HTML\n",
    "    text = re.sub(r\"[^a-zA-Z\\s]\", \"\", text)           # Keep only letters\n",
    "    text = unidecode(text)\n",
    "    text = text.lower()\n",
    "    tokens = word_tokenize(text)\n",
    "    tokens = [lemmatizer.lemmatize(w) for w in tokens if w not in stop_words]\n",
    "    return \" \".join(tokens)"
   ]
  },
  {
   "cell_type": "code",
   "execution_count": 11,
   "id": "737dc9fb",
   "metadata": {},
   "outputs": [],
   "source": [
    "df['clean_text'] = df['text'].apply(preprocess_text)"
   ]
  },
  {
   "cell_type": "code",
   "execution_count": 12,
   "id": "78b56783",
   "metadata": {},
   "outputs": [
    {
     "data": {
      "application/vnd.microsoft.datawrangler.viewer.v0+json": {
       "columns": [
        {
         "name": "index",
         "rawType": "int64",
         "type": "integer"
        },
        {
         "name": "text",
         "rawType": "object",
         "type": "string"
        },
        {
         "name": "label",
         "rawType": "int64",
         "type": "integer"
        },
        {
         "name": "clean_text",
         "rawType": "object",
         "type": "string"
        }
       ],
       "ref": "eb487624-c15c-4ed1-ad0d-625801f5c8ab",
       "rows": [
        [
         "38728",
         "Georgian nation expressed its opinion by this voting [Presidential elections], but as far as I know, people’s concerns are related not as much to these elections, as to the situation in the region, to the flow of Islamic terrorists. They have settled pretty well in Georgia and the population awaits that the government will resolve this issue somehow. There are lots of migrants in Georgia and they feel quite well there. It has to be said that this is a trending issue, however barely discussed",
         "0",
         "georgian nation expressed opinion voting presidential election far know people concern related much election situation region flow islamic terrorist settled pretty well georgia population awaits government resolve issue somehow lot migrant georgia feel quite well said trending issue however barely discussed"
        ],
        [
         "4668",
         "Marine Corps Veteran Frank Biggio appreciates your recognition of his services, but he doesn t want it anymore. This year is far too important. Instead, he says, he wants you to vote and he wants you to vote for Hillary Clinton.In an op-ed in Cleveland.com, Biggio outlined strong differences between the two major party candidates, and for him, Trump is unacceptable:One of our options includes a man who has glibly spoken about using nuclear weapons in Europe and the Middle East and seems unconcerned about nuclear proliferation by other countries simply because it is  going to happen anyway;  who fails to comprehend the deterrent effect of U.S. troops in South Korea against increasingly belligerent threats by North Korea; who would allow NATO member states on Russia s western border to fall to Kremlin aggressions unless they  pay up;  and who has denigrated the family of an Army captain killed in action while serving his country.This is a mercurial man who will have almost unchecked authority to put uniformed men and women in harm s way, but whose understanding of foreign affairs and military strategy is based almost solely on his instincts rather than analysis.Biggio goes on to say that he has served under many commanders and none of them have resorted to  primitive and distracting antics like belligerent shouting or chest thumping.  He also wrote about how every commander he s served under is humble with victories and takes responsibility for failures. Trump, he said, would never credit his team for success and he d never take blame for failure. Instead, Biggio compared Trump to the fictional Captain Queeg in  The Caine Mutiny :Trump is no Eisenhower. He s more like the fictional Captain Queeg played by Humphrey Bogart in  The Caine Mutiny    paranoid, erratic, condescending and ultimately incompetent. There are many other apt analogies, but each is equally frightening when thinking of Trump directing the deployment of our military to today s ambiguous front lines, perhaps just to prove that he can.Biggio is concerned for the 2.2 million members of the military if Trump is elected:Will we elect a man who, without offering any clarity, boasts that he  will be so good at the military, your head will spin,  as if his high school graduation from a military academy validates that claim, and hopes that the electorate will simply trust that will be so? Whose behavior and public comments cause a collective group of 50 foreign policy experts, most of whom are from the Republican Party and have at one time sat in the White House Situation Room and contemplated the implications   and repercussions   of deploying our military, to publicly denounce him and the security and foreign policy positions he has proposed?Biggio agrees with many that Clinton is not without flaws (who is?), but he admires and respects her experience, her pragmatism and the fact that she knows when to be decisive and when to exhibit restraint:This Election Day, please thank me for my service by voting for Hillary Clinton as our president and commander in chief.We will, Major Biggio.Featured image via Cherie Cullen/Getty Images.",
         "0",
         "marine corp veteran frank biggio appreciates recognition service want anymore year far important instead say want vote want vote hillary clintonin oped clevelandcom biggio outlined strong difference two major party candidate trump unacceptableone option includes man glibly spoken using nuclear weapon europe middle east seems unconcerned nuclear proliferation country simply going happen anyway fails comprehend deterrent effect u troop south korea increasingly belligerent threat north korea would allow nato member state russia western border fall kremlin aggression unless pay denigrated family army captain killed action serving countrythis mercurial man almost unchecked authority put uniformed men woman harm way whose understanding foreign affair military strategy based almost solely instinct rather analysisbiggio go say served many commander none resorted primitive distracting antic like belligerent shouting chest thumping also wrote every commander served humble victory take responsibility failure trump said would never credit team success never take blame failure instead biggio compared trump fictional captain queeg caine mutiny trump eisenhower like fictional captain queeg played humphrey bogart caine mutiny paranoid erratic condescending ultimately incompetent many apt analogy equally frightening thinking trump directing deployment military today ambiguous front line perhaps prove canbiggio concerned million member military trump electedwill elect man without offering clarity boast good military head spin high school graduation military academy validates claim hope electorate simply trust whose behavior public comment cause collective group foreign policy expert republican party one time sat white house situation room contemplated implication repercussion deploying military publicly denounce security foreign policy position proposedbiggio agrees many clinton without flaw admires respect experience pragmatism fact know decisive exhibit restraintthis election day please thank service voting hillary clinton president commander chiefwe major biggiofeatured image via cherie cullengetty image"
        ],
        [
         "77533",
         "How Rich Candidates Try To Appeal To Working Voters\n\nDonald Trump has described himself as \"really rich\" — but by just about any standard, that label fits both the Republican presidential nominee and his Democratic rival, Hillary Clinton. In an election year characterized by populist energy over economic concerns like jobs and trade, the gap is striking.\n\nClinton's newly released tax returns show that she and her husband, former President Bill Clinton, made more than $10 million in 2015. Trump is under pressure to follow suit, but he has yet to release his returns. He says he's a multi-billionaire, but his refusal to release the documents has led to speculation that Trump may not be as rich as he claims.\n\nWhat's clear is that both Trump and Clinton earn vastly more than the income of the typical American household, around $54,000 per year. So it's no surprise the candidates have been trying — and sometimes struggling — to connect with average voters.\n\nMoney has been a big theme in this election. Trump often touts his wealth as evidence of his competence and success, promising to create jobs for working people. He's argued that his wealth means he won't answer to big donors — even though he has begun fundraising more aggressively since locking up the GOP nomination.\n\n\"I don't need anybody's money. I'm using my own money. I'm not using the lobbyists. I'm not using the donors. I don't care,\" Trump said during his campaign announcement speech at Trump Tower in New York last year.\n\nClinton, meanwhile, points to her middle-class, Midwestern roots. In her speech to the Democratic National Convention last month. Clinton said in the Rodham family, \"no one had their name on big buildings. My family were builders of a different kind.\"\n\nClinton talked about her grandfather working to build a better life by working in a lace mill in Scranton, Pa., and her father's experience running a small business. Of course, Clinton grew up in an upper-middle class suburb of Chicago, and her father did well as the owner of a drapery business.\n\nTrump, too, has tried to demonstrate that he understands the lives of regular people. Speaking to the National Association of Home Builders in Miami Thursday, Trump reminisced about his father — also a builder — touring some of his construction sites.\n\n\"My father would go, and he'd pick up the sawdust, and he'd pick up the nails – the extra nails. And he'd pick up the scraps of wood; he'd use whatever he could use, and recycle it in some form, or sell it. And it was a constant process,\" Trump said. \"And he did a beautiful job.\"\n\nAt a campaign rally in Erie, Pennsylvania, he said he actually prefers the workers on construction sites to his wealthy peers:\n\n\"They say, you know, you're really rich. How come you sort of relate to these people? Well, you know, my father built houses and I used to work in these houses,\" Trump said. \"I got to know the plumbers, the steamfitters, I got to know them all. And I liked them better than the rich people that I know. I know a lot of rich people. It's true. They are better. I like them better.\"\n\nWhile Trump touts his ability to accumulate vast wealth in the real-estate business, Clinton has come under fire for the amount of money she and her husband have made since leaving public office.\n\nIn June of 2014, ABC's Diane Sawyer asked about her lucrative paid speeches to audiences that have included Wall Street firms.\n\n\"We came out of the White House not only dead broke, but in debt. We had no money when we got there, and we struggled to, you know, piece together the resources for mortgages, for houses, for Chelsea's education,\" Clinton said. \"You know, it was not easy.\"\n\nThat answer was widely panned by Clinton's critics and rated \"mostly false\" by Politifact.\n\nRepublican pollster Frank Luntz says he's no fan of either Clinton OR Trump, but he says Clinton's carefully rehearsed style feels inauthentic to many working-class voters.\n\n\"To working-class voters, they want you to let loose,\" Luntz told NPR. \"They want you to say what you mean and mean what you say.\"\n\nDespite Trump's massive wealth, his \"willingness to say just about anything to just about anyone at any time\" has strengthened his credibility, Luntz said, with working-class people who are \"tired of being talked down to.\"\n\nBut Luntz added that Trump's slipping poll numbers over the past few weeks suggest his style may be turning off the upper middle-class voters the Republican Party has long relied upon.",
         "1",
         "rich candidate try appeal working voter donald trump described really rich standard label fit republican presidential nominee democratic rival hillary clinton election year characterized populist energy economic concern like job trade gap striking clinton newly released tax return show husband former president bill clinton made million trump pressure follow suit yet release return say he multibillionaire refusal release document led speculation trump may rich claim whats clear trump clinton earn vastly income typical american household around per year surprise candidate trying sometimes struggling connect average voter money big theme election trump often tout wealth evidence competence success promising create job working people he argued wealth mean wont answer big donor even though begun fundraising aggressively since locking gop nomination dont need anybodys money im using money im using lobbyist im using donor dont care trump said campaign announcement speech trump tower new york last year clinton meanwhile point middleclass midwestern root speech democratic national convention last month clinton said rodham family one name big building family builder different kind clinton talked grandfather working build better life working lace mill scranton pa father experience running small business course clinton grew uppermiddle class suburb chicago father well owner drapery business trump tried demonstrate understands life regular people speaking national association home builder miami thursday trump reminisced father also builder touring construction site father would go hed pick sawdust hed pick nail extra nail hed pick scrap wood hed use whatever could use recycle form sell constant process trump said beautiful job campaign rally erie pennsylvania said actually prefers worker construction site wealthy peer say know youre really rich come sort relate people well know father built house used work house trump said got know plumber steamfitter got know liked better rich people know know lot rich people true better like better trump tout ability accumulate vast wealth realestate business clinton come fire amount money husband made since leaving public office june abc diane sawyer asked lucrative paid speech audience included wall street firm came white house dead broke debt money got struggled know piece together resource mortgage house chelseas education clinton said know easy answer widely panned clinton critic rated mostly false politifact republican pollster frank luntz say he fan either clinton trump say clinton carefully rehearsed style feel inauthentic many workingclass voter workingclass voter want let loose luntz told npr want say mean mean say despite trump massive wealth willingness say anything anyone time strengthened credibility luntz said workingclass people tired talked luntz added trump slipping poll number past week suggest style may turning upper middleclass voter republican party long relied upon"
        ]
       ],
       "shape": {
        "columns": 3,
        "rows": 3
       }
      },
      "text/html": [
       "<div>\n",
       "<style scoped>\n",
       "    .dataframe tbody tr th:only-of-type {\n",
       "        vertical-align: middle;\n",
       "    }\n",
       "\n",
       "    .dataframe tbody tr th {\n",
       "        vertical-align: top;\n",
       "    }\n",
       "\n",
       "    .dataframe thead th {\n",
       "        text-align: right;\n",
       "    }\n",
       "</style>\n",
       "<table border=\"1\" class=\"dataframe\">\n",
       "  <thead>\n",
       "    <tr style=\"text-align: right;\">\n",
       "      <th></th>\n",
       "      <th>text</th>\n",
       "      <th>label</th>\n",
       "      <th>clean_text</th>\n",
       "    </tr>\n",
       "  </thead>\n",
       "  <tbody>\n",
       "    <tr>\n",
       "      <th>38728</th>\n",
       "      <td>Georgian nation expressed its opinion by this ...</td>\n",
       "      <td>0</td>\n",
       "      <td>georgian nation expressed opinion voting presi...</td>\n",
       "    </tr>\n",
       "    <tr>\n",
       "      <th>4668</th>\n",
       "      <td>Marine Corps Veteran Frank Biggio appreciates ...</td>\n",
       "      <td>0</td>\n",
       "      <td>marine corp veteran frank biggio appreciates r...</td>\n",
       "    </tr>\n",
       "    <tr>\n",
       "      <th>77533</th>\n",
       "      <td>How Rich Candidates Try To Appeal To Working V...</td>\n",
       "      <td>1</td>\n",
       "      <td>rich candidate try appeal working voter donald...</td>\n",
       "    </tr>\n",
       "  </tbody>\n",
       "</table>\n",
       "</div>"
      ],
      "text/plain": [
       "                                                    text  label  \\\n",
       "38728  Georgian nation expressed its opinion by this ...      0   \n",
       "4668   Marine Corps Veteran Frank Biggio appreciates ...      0   \n",
       "77533  How Rich Candidates Try To Appeal To Working V...      1   \n",
       "\n",
       "                                              clean_text  \n",
       "38728  georgian nation expressed opinion voting presi...  \n",
       "4668   marine corp veteran frank biggio appreciates r...  \n",
       "77533  rich candidate try appeal working voter donald...  "
      ]
     },
     "execution_count": 12,
     "metadata": {},
     "output_type": "execute_result"
    }
   ],
   "source": [
    "df.sample(3)"
   ]
  },
  {
   "cell_type": "code",
   "execution_count": 13,
   "id": "d5424f13",
   "metadata": {},
   "outputs": [],
   "source": [
    "X = [x.split() for x in df['clean_text'].to_list()]\n",
    "y = df['label'].values"
   ]
  },
  {
   "cell_type": "code",
   "execution_count": 14,
   "id": "b12a81b2",
   "metadata": {},
   "outputs": [
    {
     "name": "stdout",
     "output_type": "stream",
     "text": [
      "['donald', 'trump', 'wish', 'american', 'happy', 'new', 'year', 'leave', 'instead', 'give', 'shout', 'enemy', 'hater', 'dishonest', 'fake', 'news', 'medium', 'former', 'reality', 'show', 'star', 'one', 'job', 'country', 'rapidly', 'grows', 'stronger', 'smarter', 'want', 'wish', 'friend', 'supporter', 'enemy', 'hater', 'even', 'dishonest', 'fake', 'news', 'medium', 'happy', 'healthy', 'new', 'year', 'president', 'angry', 'pant', 'tweeted', 'great', 'year', 'america', 'country', 'rapidly', 'grows', 'stronger', 'smarter', 'want', 'wish', 'friend', 'supporter', 'enemy', 'hater', 'even', 'dishonest', 'fake', 'news', 'medium', 'happy', 'healthy', 'new', 'year', 'great', 'year', 'america', 'donald', 'j', 'trump', 'realdonaldtrump', 'december', 'trump', 'tweet', 'went', 'welll', 'expectwhat', 'kind', 'president', 'sends', 'new', 'year', 'greeting', 'like', 'despicable', 'petty', 'infantile', 'gibberish', 'trump', 'lack', 'decency', 'even', 'allow', 'rise', 'gutter', 'long', 'enough', 'wish', 'american', 'citizen', 'happy', 'new', 'year', 'bishop', 'talbert', 'swan', 'talbertswan', 'december', 'one', 'like', 'calvin', 'calvinstowell', 'december', 'impeachment', 'would', 'make', 'great', 'year', 'america', 'also', 'accept', 'regaining', 'control', 'congress', 'miranda', 'yaver', 'mirandayaver', 'december', 'hear', 'talk', 'include', 'many', 'people', 'hate', 'wonder', 'hate', 'alan', 'sandoval', 'alansandoval', 'december', 'us', 'word', 'hater', 'new', 'year', 'wish', 'marlene', 'marlene', 'december', 'say', 'happy', 'new', 'year', 'koren', 'pollitt', 'korencarpenter', 'december', 'trump', 'new', 'year', 'eve', 'tweet', 'happy', 'new', 'year', 'including', 'many', 'enemy', 'fought', 'lost', 'badly', 'know', 'love', 'donald', 'j', 'trump', 'realdonaldtrump', 'december', 'nothing', 'new', 'trump', 'yearstrump', 'directed', 'message', 'enemy', 'hater', 'new', 'year', 'easter', 'thanksgiving', 'anniversary', 'pictwittercomfpaekypa', 'daniel', 'dale', 'ddale', 'december', 'trump', 'holiday', 'tweet', 'clearly', 'presidentialhow', 'long', 'work', 'hallmark', 'becoming', 'president', 'steven', 'goodine', 'sgoodine', 'december', 'always', 'like', 'difference', 'last', 'year', 'filter', 'breaking', 'roy', 'schulze', 'thbthttt', 'december', 'apart', 'teenager', 'us', 'term', 'hater', 'wendy', 'wendywhistles', 'december', 'fucking', 'year', 'old', 'know', 'rainyday', 'december', 'people', 'voted', 'hole', 'thinking', 'would', 'change', 'got', 'power', 'wrong', 'yearold', 'men', 'change', 'year', 'olderphoto', 'andrew', 'burtongetty', 'image']\n"
     ]
    }
   ],
   "source": [
    "print(X[0])"
   ]
  },
  {
   "cell_type": "markdown",
   "id": "b16cadca",
   "metadata": {},
   "source": [
    "### Generate Word Embedding"
   ]
  },
  {
   "cell_type": "code",
   "execution_count": 15,
   "id": "da7a934c",
   "metadata": {},
   "outputs": [],
   "source": [
    "import gensim\n",
    "\n",
    "EMBEDDING_DIM = 100\n",
    "w2v_model =  gensim.models.Word2Vec(sentences=X, vector_size=EMBEDDING_DIM, window=10, min_count=1)"
   ]
  },
  {
   "cell_type": "code",
   "execution_count": 34,
   "id": "d1698eae",
   "metadata": {},
   "outputs": [
    {
     "data": {
      "text/plain": [
       "308304"
      ]
     },
     "execution_count": 34,
     "metadata": {},
     "output_type": "execute_result"
    }
   ],
   "source": [
    "len(w2v_model.wv)"
   ]
  },
  {
   "cell_type": "code",
   "execution_count": 17,
   "id": "7b216e08",
   "metadata": {},
   "outputs": [
    {
     "data": {
      "text/plain": [
       "array([ 0.7255931 , -1.9050796 ,  0.19104256, -0.08357414, -0.03691032,\n",
       "       -1.1871941 ,  2.6474073 , -2.3943381 , -0.92528373, -2.139261  ,\n",
       "        0.2728834 , -1.23029   , -2.6213806 ,  1.6130943 , -3.9184465 ,\n",
       "        3.9439416 , -3.411047  ,  5.5817084 ,  0.6613123 ,  2.4131954 ,\n",
       "        2.282067  , -1.1627516 , -0.28344736,  3.1383579 ,  2.1773534 ,\n",
       "       -2.586758  ,  1.7263389 , -0.3293906 ,  2.6463583 , -1.226589  ,\n",
       "       -1.4717367 , -2.064893  ,  1.6418289 , -0.24289429, -3.7624352 ,\n",
       "       -0.72616935,  0.3659905 ,  2.3286307 ,  6.200556  ,  0.41539317,\n",
       "        2.1202204 , -0.22638313,  1.6629716 , -1.4833922 ,  1.490295  ,\n",
       "        2.1993659 , -0.4341199 ,  0.90188015,  1.8672462 ,  1.8141214 ,\n",
       "       -1.6041224 , -2.1986213 ,  1.6484529 , -1.7155503 , -0.602557  ,\n",
       "       -1.3858746 , -2.9801292 ,  1.14226   ,  2.093237  ,  2.8714929 ,\n",
       "       -0.36834794,  3.0900693 , -1.8346208 , -1.5365309 ,  4.092284  ,\n",
       "       -4.2605557 , -0.42151487, -0.21367683,  4.6636057 ,  0.2522617 ,\n",
       "       -1.7550234 , -0.5831082 , -0.49836674,  3.3697343 ,  2.7030702 ,\n",
       "       -0.21741553, -4.050621  , -2.0428896 ,  2.8427134 , -1.4981769 ,\n",
       "        2.1894255 ,  4.307833  ,  0.9815816 , -3.893462  ,  1.9484471 ,\n",
       "       -0.8969577 ,  2.497656  , -5.121003  ,  0.47143406, -2.6207693 ,\n",
       "       -2.3606424 ,  3.0828555 , -4.340196  , -2.26562   ,  0.01659046,\n",
       "       -0.18766339,  0.9690153 , -1.9801275 ,  1.5077498 , -0.42061943],\n",
       "      dtype=float32)"
      ]
     },
     "execution_count": 17,
     "metadata": {},
     "output_type": "execute_result"
    }
   ],
   "source": [
    "w2v_model.wv['trump']"
   ]
  },
  {
   "cell_type": "code",
   "execution_count": 18,
   "id": "5ab81cb9",
   "metadata": {},
   "outputs": [],
   "source": [
    "import tensorflow as tf\n",
    "from tensorflow.keras.preprocessing.text import Tokenizer\n",
    "from tensorflow.keras.preprocessing.sequence import pad_sequences"
   ]
  },
  {
   "cell_type": "code",
   "execution_count": 19,
   "id": "5c8c4440",
   "metadata": {},
   "outputs": [],
   "source": [
    "# Tokenization\n",
    "tokenizer = Tokenizer(num_words=8000, oov_token='<OOV>')\n",
    "tokenizer.fit_on_texts(X)\n",
    "\n",
    "X = tokenizer.texts_to_sequences(X)"
   ]
  },
  {
   "cell_type": "code",
   "execution_count": 22,
   "id": "ae5737d8",
   "metadata": {},
   "outputs": [],
   "source": [
    "maxlen = 700\n",
    "X = pad_sequences(X, maxlen=maxlen)"
   ]
  },
  {
   "cell_type": "code",
   "execution_count": 35,
   "id": "994a258e",
   "metadata": {},
   "outputs": [
    {
     "data": {
      "text/plain": [
       "(68600, 700)"
      ]
     },
     "execution_count": 35,
     "metadata": {},
     "output_type": "execute_result"
    }
   ],
   "source": [
    "X.shape"
   ]
  },
  {
   "cell_type": "code",
   "execution_count": 31,
   "id": "982d8c64",
   "metadata": {},
   "outputs": [],
   "source": [
    "word_index = tokenizer.word_index"
   ]
  },
  {
   "cell_type": "code",
   "execution_count": 40,
   "id": "db6b1dba",
   "metadata": {},
   "outputs": [],
   "source": [
    "def get_weight_matrix(model, vocab):\n",
    "    vocab_size = len(vocab) + 1\n",
    "    \n",
    "    weight_matrix = np.zeros((vocab_size, EMBEDDING_DIM))\n",
    "    \n",
    "    for word, i in vocab.items():\n",
    "        if word in model.wv:\n",
    "            weight_matrix[i] = model.wv[word]\n",
    "            \n",
    "    return weight_matrix"
   ]
  },
  {
   "cell_type": "code",
   "execution_count": 41,
   "id": "c6d21300",
   "metadata": {},
   "outputs": [],
   "source": [
    "embedding_vectors = get_weight_matrix(w2v_model, word_index)"
   ]
  },
  {
   "cell_type": "code",
   "execution_count": 42,
   "id": "c91ef28f",
   "metadata": {},
   "outputs": [
    {
     "data": {
      "text/plain": [
       "(308306, 100)"
      ]
     },
     "execution_count": 42,
     "metadata": {},
     "output_type": "execute_result"
    }
   ],
   "source": [
    "embedding_vectors.shape"
   ]
  },
  {
   "cell_type": "markdown",
   "id": "52664882",
   "metadata": {},
   "source": [
    "### Generate Sentence Embedding"
   ]
  },
  {
   "cell_type": "code",
   "execution_count": 61,
   "id": "45f6740f",
   "metadata": {},
   "outputs": [],
   "source": [
    "def get_sentence_embedding(sentence, model, tokenizer, embedding_dim = 100):\n",
    "    tokens = tokenizer.texts_to_sequences([sentence])[0]\n",
    "    embedding_vectors = []\n",
    "    \n",
    "    for idx in tokens:\n",
    "        word = tokenizer.index_word.get(idx, None)\n",
    "        if word and word in model.wv:\n",
    "            embedding_vectors.append(model.wv[word])\n",
    "            \n",
    "    if embedding_vectors:\n",
    "        return np.mean(embedding_vectors, axis=0)\n",
    "    else:\n",
    "        return np.zeros(embedding_dim)"
   ]
  },
  {
   "cell_type": "code",
   "execution_count": 50,
   "id": "74c3754d",
   "metadata": {},
   "outputs": [],
   "source": [
    "tmp = df.sample(10)"
   ]
  },
  {
   "cell_type": "code",
   "execution_count": 71,
   "id": "3f9bd887",
   "metadata": {},
   "outputs": [],
   "source": [
    "sentences = list(df['clean_text'])\n",
    "labels = list(df['label'])"
   ]
  },
  {
   "cell_type": "code",
   "execution_count": 74,
   "id": "1b75043b",
   "metadata": {},
   "outputs": [
    {
     "data": {
      "text/plain": [
       "68600"
      ]
     },
     "execution_count": 74,
     "metadata": {},
     "output_type": "execute_result"
    }
   ],
   "source": [
    "len(sentences)"
   ]
  },
  {
   "cell_type": "code",
   "execution_count": 75,
   "id": "d4dd495c",
   "metadata": {},
   "outputs": [],
   "source": [
    "sentence_vectors = [get_sentence_embedding(s, w2v_model, tokenizer) for s in sentences]"
   ]
  },
  {
   "cell_type": "code",
   "execution_count": 77,
   "id": "79b06663",
   "metadata": {},
   "outputs": [
    {
     "data": {
      "text/plain": [
       "array([-0.28551602, -0.03429444, -0.46597832,  0.21432824,  0.6104798 ,\n",
       "        0.67618346,  0.6118909 ,  0.6230175 ,  0.40256166, -0.6803489 ,\n",
       "        0.96192515, -0.20471998, -1.0345197 , -0.20204228, -0.6074122 ,\n",
       "        0.8199809 , -1.1761835 ,  0.5310254 ,  0.41612497,  0.23227298,\n",
       "       -0.14663301,  0.27734432,  0.7630665 ,  0.40491077, -0.03119555,\n",
       "       -0.43366838,  0.09050031, -0.5215988 , -0.00890656,  0.1114659 ,\n",
       "       -1.2308029 ,  0.5044593 ,  0.04303144,  0.36103085, -1.3935555 ,\n",
       "        0.8285565 ,  1.0935115 ,  1.0993382 ,  1.2381586 , -0.87086666,\n",
       "        0.47638988,  0.02965265,  0.52600765,  0.8415161 ,  0.28366527,\n",
       "        0.34274575, -0.07676245, -0.08666813,  0.2711804 ,  0.7606924 ,\n",
       "       -0.40924656, -0.25287664,  0.7088239 ,  1.0506779 ,  0.15396596,\n",
       "       -1.3894774 ,  0.12568493, -0.6657719 ,  0.9505532 ,  0.16494563,\n",
       "        0.37907264, -0.25607193,  0.8926606 ,  0.19668731,  1.0061646 ,\n",
       "       -1.5187362 ,  0.20185706, -0.17233327,  0.6890934 , -1.6125152 ,\n",
       "        0.47095883, -0.02931663, -0.10117417,  0.59658724,  0.408482  ,\n",
       "       -0.16664794, -0.9753963 , -0.5688407 ,  1.2404279 , -0.5381773 ,\n",
       "        1.9744831 ,  0.44391155,  0.6056043 , -0.6979691 ,  1.0528451 ,\n",
       "       -0.09419595,  0.7564284 , -0.03402497, -0.12576391, -0.7128231 ,\n",
       "       -1.556165  ,  0.65608984, -0.7692886 ,  1.169631  ,  0.4077217 ,\n",
       "       -0.45055372, -0.6483954 , -0.5801947 ,  1.0250235 , -0.66889673],\n",
       "      dtype=float32)"
      ]
     },
     "execution_count": 77,
     "metadata": {},
     "output_type": "execute_result"
    }
   ],
   "source": [
    "sentence_vectors[0]"
   ]
  },
  {
   "cell_type": "code",
   "execution_count": 80,
   "id": "5438e99f",
   "metadata": {},
   "outputs": [
    {
     "data": {
      "image/png": "[encoded data removed]",
      "text/plain": [
       "<Figure size 800x600 with 1 Axes>"
      ]
     },
     "metadata": {},
     "output_type": "display_data"
    }
   ],
   "source": [
    "from sklearn.decomposition import PCA\n",
    "\n",
    "pca = PCA(n_components=2)\n",
    "reduced = pca.fit_transform(sentence_vectors)\n",
    "\n",
    "plt.figure(figsize=(8, 6))\n",
    "\n",
    "for label in np.unique(labels):\n",
    "    idx = np.array(labels) == label\n",
    "    plt.scatter(reduced[idx, 0], reduced[idx, 1], label=f\"Class {label}\")\n",
    "\n",
    "plt.legend()\n",
    "plt.title(\"Sentence Embeddings (from Word2Vec) Visualized by PCA\")\n",
    "plt.xlabel(\"PCA 1\")\n",
    "plt.ylabel(\"PCA 2\")\n",
    "plt.grid(True)\n",
    "plt.show()"
   ]
  }
 ],
 "metadata": {
  "kernelspec": {
   "display_name": "Python 3",
   "language": "python",
   "name": "python3"
  },
  "language_info": {
   "codemirror_mode": {
    "name": "ipython",
    "version": 3
   },
   "file_extension": ".py",
   "mimetype": "text/x-python",
   "name": "python",
   "nbconvert_exporter": "python",
   "pygments_lexer": "ipython3",
   "version": "3.10.8"
  }
 },
 "nbformat": 4,
 "nbformat_minor": 5
}
